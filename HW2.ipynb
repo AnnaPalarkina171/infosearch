{
  "nbformat": 4,
  "nbformat_minor": 0,
  "metadata": {
    "colab": {
      "name": "1.ipynb",
      "provenance": []
    },
    "kernelspec": {
      "name": "python3",
      "display_name": "Python 3"
    }
  },
  "cells": [
    {
      "cell_type": "markdown",
      "metadata": {
        "id": "tWqV_a69Z9-O"
      },
      "source": [
        "### __Задача 1__:    \n",
        "Реализуйте поиск с метрикой *TF-IDF* через умножение матрицы на вектор.\n",
        "Что должно быть в реализации:\n",
        "- проиндексированная база, где каждый документ представлен в виде вектора TF-IDF\n",
        "- функция перевода входяшего запроса в вектор по метрике TF-IDF\n",
        "- ранжирование докуменов по близости к запросу по убыванию\n",
        "\n",
        "В качестве корпуса возьмите корпус вопросов в РПН по Covid2019. Он состоит из:\n",
        "> файл **answers_base.xlsx** - база ответов, у каждого ответа есть его номер, тематика и примеры вопросов, которые могут быть заданы к этому ответу. Сейчас проиндексировать надо именно примеры вопросов в качестве документов базы. Понимаете почему?\n",
        "\n",
        "> файл **queries_base.xlsx** - вопросы юзеров, к каждому из которых проставлен номер верного ответа из базы. Разделите эти вопросы в пропорции 70/30 на обучающую (проиндексированную как база) и тестовую (как запросы) выборки. "
      ]
    },
    {
      "cell_type": "code",
      "metadata": {
        "id": "rTx51-RbW77V"
      },
      "source": [
        "from sklearn.model_selection import train_test_split\n",
        "from sklearn.feature_extraction.text import TfidfVectorizer\n",
        "import pandas as pd\n",
        "import numpy as np\n",
        "\n",
        "!pip install razdel\n",
        "from razdel import sentenize, tokenize\n",
        "from math import log"
      ],
      "execution_count": 1,
      "outputs": []
    },
    {
      "cell_type": "code",
      "metadata": {
        "id": "O1d0EXbsapwk",
        "outputId": "03449361-54e4-4220-d363-05cd29952ccf",
        "colab": {
          "base_uri": "https://localhost:8080/",
          "height": 195
        }
      },
      "source": [
        "answers = pd.read_excel('/content/drive/My Drive/PROGA/infosearch/hw2/answers_base.xlsx')\n",
        "questions = pd.read_excel('/content/drive/My Drive/PROGA/infosearch/hw2/queries_base.xlsx')\n",
        "answers.head()"
      ],
      "execution_count": 2,
      "outputs": [
        {
          "output_type": "execute_result",
          "data": {
            "text/html": [
              "<div>\n",
              "<style scoped>\n",
              "    .dataframe tbody tr th:only-of-type {\n",
              "        vertical-align: middle;\n",
              "    }\n",
              "\n",
              "    .dataframe tbody tr th {\n",
              "        vertical-align: top;\n",
              "    }\n",
              "\n",
              "    .dataframe thead th {\n",
              "        text-align: right;\n",
              "    }\n",
              "</style>\n",
              "<table border=\"1\" class=\"dataframe\">\n",
              "  <thead>\n",
              "    <tr style=\"text-align: right;\">\n",
              "      <th></th>\n",
              "      <th>Номер связки</th>\n",
              "      <th>Текст вопросов</th>\n",
              "      <th>Текст ответа</th>\n",
              "      <th>Тематика</th>\n",
              "    </tr>\n",
              "  </thead>\n",
              "  <tbody>\n",
              "    <tr>\n",
              "      <th>0</th>\n",
              "      <td>57</td>\n",
              "      <td>У ребенка в школе продлили каникулы. Могу ли я...</td>\n",
              "      <td>Листок временной нетрудоспособности (больничны...</td>\n",
              "      <td>БОЛЬНИЧНЫЙ ЛИСТ</td>\n",
              "    </tr>\n",
              "    <tr>\n",
              "      <th>1</th>\n",
              "      <td>78</td>\n",
              "      <td>Где сделать вакцинацию от коронавируса?\\nСущес...</td>\n",
              "      <td>Коронавирусы - это целое семейство вирусов, ко...</td>\n",
              "      <td>ВАКЦИНАЦИЯ</td>\n",
              "    </tr>\n",
              "    <tr>\n",
              "      <th>2</th>\n",
              "      <td>326</td>\n",
              "      <td>Сколько стоит сделать вакцину от гриппа?\\nМожн...</td>\n",
              "      <td>Бесплатно пройти вакцинацию можно в Вашей меди...</td>\n",
              "      <td>ВАКЦИНАЦИЯ</td>\n",
              "    </tr>\n",
              "    <tr>\n",
              "      <th>3</th>\n",
              "      <td>327</td>\n",
              "      <td>Могу я отказаться от вакцинации?\\nВ каких случ...</td>\n",
              "      <td>Согласно приказу Министерства здравоохранения ...</td>\n",
              "      <td>ВАКЦИНАЦИЯ</td>\n",
              "    </tr>\n",
              "    <tr>\n",
              "      <th>4</th>\n",
              "      <td>328</td>\n",
              "      <td>Безопасна ли вакцинация?\\nОпасна ли вакцинация...</td>\n",
              "      <td>В соответствии с пунктами 1 и 2 статьи 12 Феде...</td>\n",
              "      <td>ВАКЦИНАЦИЯ</td>\n",
              "    </tr>\n",
              "  </tbody>\n",
              "</table>\n",
              "</div>"
            ],
            "text/plain": [
              "   Номер связки  ...         Тематика\n",
              "0            57  ...  БОЛЬНИЧНЫЙ ЛИСТ\n",
              "1            78  ...       ВАКЦИНАЦИЯ\n",
              "2           326  ...       ВАКЦИНАЦИЯ\n",
              "3           327  ...       ВАКЦИНАЦИЯ\n",
              "4           328  ...       ВАКЦИНАЦИЯ\n",
              "\n",
              "[5 rows x 4 columns]"
            ]
          },
          "metadata": {
            "tags": []
          },
          "execution_count": 2
        }
      ]
    },
    {
      "cell_type": "code",
      "metadata": {
        "id": "J0GqpoeMcSn4"
      },
      "source": [
        "text, train = train_test_split(questions, test_size = 0.3, random_state=67839)\n",
        "\n",
        "vectorizer = TfidfVectorizer()\n",
        "X = vectorizer.fit_transform(answers['Текст вопросов'])\n",
        "array_answers = X.toarray()"
      ],
      "execution_count": 3,
      "outputs": []
    },
    {
      "cell_type": "code",
      "metadata": {
        "id": "ReuEOosxnrBC",
        "outputId": "2ebbf345-a596-4ba2-f3d0-a2e6260e4520",
        "colab": {
          "base_uri": "https://localhost:8080/",
          "height": 34
        }
      },
      "source": [
        "array_answers.shape"
      ],
      "execution_count": 4,
      "outputs": [
        {
          "output_type": "execute_result",
          "data": {
            "text/plain": [
              "(43, 1554)"
            ]
          },
          "metadata": {
            "tags": []
          },
          "execution_count": 4
        }
      ]
    },
    {
      "cell_type": "code",
      "metadata": {
        "id": "8qfqBkV4fV-K",
        "outputId": "05e83820-ea48-4bf8-bd9e-998507d3cc9c",
        "colab": {
          "base_uri": "https://localhost:8080/",
          "height": 101
        }
      },
      "source": [
        "words=vectorizer.get_feature_names()\n",
        "pd_matrix_answers = pd.DataFrame(array_answers, columns=words)\n",
        "pd_matrix_answers.info()"
      ],
      "execution_count": 5,
      "outputs": [
        {
          "output_type": "stream",
          "text": [
            "<class 'pandas.core.frame.DataFrame'>\n",
            "RangeIndex: 43 entries, 0 to 42\n",
            "Columns: 1554 entries, 10 to явно\n",
            "dtypes: float64(1554)\n",
            "memory usage: 522.2 KB\n"
          ],
          "name": "stdout"
        }
      ]
    },
    {
      "cell_type": "code",
      "metadata": {
        "id": "7BstioXBqAeB",
        "outputId": "8f2f8e87-48ba-4dd3-e327-f6180662d59d",
        "colab": {
          "base_uri": "https://localhost:8080/",
          "height": 34
        }
      },
      "source": [
        "def vectorize(text: str):\n",
        "  vec = vectorizer.transform(text)\n",
        "  X = vec.toarray()[0]\n",
        "  scalar = array_answers.dot(X)\n",
        "\n",
        "  return scalar\n",
        "\n",
        "question_array = vectorize(questions['Текст вопроса'].head(1))\n",
        "question_array.shape"
      ],
      "execution_count": 6,
      "outputs": [
        {
          "output_type": "execute_result",
          "data": {
            "text/plain": [
              "(43,)"
            ]
          },
          "metadata": {
            "tags": []
          },
          "execution_count": 6
        }
      ]
    },
    {
      "cell_type": "code",
      "metadata": {
        "id": "uMkIuNGpyk-U",
        "outputId": "5b973b6b-6e62-45cc-8dc5-11542cf6edfd",
        "colab": {
          "base_uri": "https://localhost:8080/",
          "height": 605
        }
      },
      "source": [
        "links = list(answers['Номер связки'])\n",
        "\n",
        "def raking(question_array):\n",
        "  vec_link ={}\n",
        "  for x,y in enumerate(np.nditer(question_array)):\n",
        "    vec_link[float(y)] = links[x]\n",
        "\n",
        "  zip_links = [(el, vec_link[el]) for el in sorted(vec_link.keys(), reverse=True)]\n",
        "\n",
        "  result = 'В ранжировании выиграл документ номер: ' + str(zip_links[0][1]) + '\\n'\n",
        "  print(result)\n",
        "\n",
        "  for x,y in zip_links:\n",
        "    print('Коэффициент близости: ', x,'\\t Номер документа: ',y)\n",
        "  \n",
        "  \n",
        "raking(question_array)"
      ],
      "execution_count": 9,
      "outputs": [
        {
          "output_type": "stream",
          "text": [
            "В ранжировании выиграл документ номер: 308\n",
            "\n",
            "Коэффициент близости:  0.186124813762977 \t Номер документа:  308\n",
            "Коэффициент близости:  0.16869161558362822 \t Номер документа:  135\n",
            "Коэффициент близости:  0.14332733589020885 \t Номер документа:  6\n",
            "Коэффициент близости:  0.12684606813855775 \t Номер документа:  286\n",
            "Коэффициент близости:  0.12635102520844524 \t Номер документа:  270\n",
            "Коэффициент близости:  0.12088349071349433 \t Номер документа:  1\n",
            "Коэффициент близости:  0.11765950736340816 \t Номер документа:  88\n",
            "Коэффициент близости:  0.11482520646588393 \t Номер документа:  5\n",
            "Коэффициент близости:  0.10432220238297922 \t Номер документа:  37\n",
            "Коэффициент близости:  0.07085366550799663 \t Номер документа:  246\n",
            "Коэффициент близости:  0.0652499567437455 \t Номер документа:  325\n",
            "Коэффициент близости:  0.061739732054359696 \t Номер документа:  74\n",
            "Коэффициент близости:  0.05591413582628507 \t Номер документа:  132\n",
            "Коэффициент близости:  0.055790216712495955 \t Номер документа:  79\n",
            "Коэффициент близости:  0.05132963940168477 \t Номер документа:  57\n",
            "Коэффициент близости:  0.05062161681644585 \t Номер документа:  89\n",
            "Коэффициент близости:  0.0479807957433737 \t Номер документа:  34\n",
            "Коэффициент близости:  0.04710088056522929 \t Номер документа:  173\n",
            "Коэффициент близости:  0.04099693804065354 \t Номер документа:  10\n",
            "Коэффициент близости:  0.02986892199284981 \t Номер документа:  46\n",
            "Коэффициент близости:  0.024966597718604853 \t Номер документа:  32\n",
            "Коэффициент близости:  0.024440881584028903 \t Номер документа:  327\n",
            "Коэффициент близости:  0.023871812192775226 \t Номер документа:  43\n",
            "Коэффициент близости:  0.023403431613431797 \t Номер документа:  70\n",
            "Коэффициент близости:  0.023106985318137964 \t Номер документа:  3\n",
            "Коэффициент близости:  0.021599379553218265 \t Номер документа:  38\n",
            "Коэффициент близости:  0.02007745970551486 \t Номер документа:  45\n",
            "Коэффициент близости:  0.019550757637217843 \t Номер документа:  21\n",
            "Коэффициент близости:  0.016558418195605912 \t Номер документа:  210\n",
            "Коэффициент близости:  0.014406766614318658 \t Номер документа:  257\n",
            "Коэффициент близости:  0.011802246847364292 \t Номер документа:  12\n",
            "Коэффициент близости:  0.008261351221546023 \t Номер документа:  78\n",
            "Коэффициент близости:  0.0 \t Номер документа:  324\n"
          ],
          "name": "stdout"
        }
      ]
    },
    {
      "cell_type": "markdown",
      "metadata": {
        "id": "anxLrE6xPjes"
      },
      "source": [
        "## Функция ранжирования bm25\n",
        "\n",
        "Для обратного индекса есть общепринятая формула для ранжирования *Okapi best match 25* ([Okapi BM25](https://ru.wikipedia.org/wiki/Okapi_BM25)).    \n",
        "Пусть дан запрос $Q$, содержащий слова  $q_1, ... , q_n$, тогда функция BM25 даёт следующую оценку релевантности документа $D$ запросу $Q$:\n",
        "\n",
        "$$ score(D, Q) = \\sum_{i}^{n} \\text{IDF}(q_i)*\\frac{TF(q_i,D)*(k+1)}{TF(q_i,D)+k(1-b+b\\frac{l(d)}{avgdl})} $$ \n",
        "где   \n",
        ">$TF(q_i,D)$ - частота слова $q_i$ в документе $D$      \n",
        "$l(d)$ - длина документа (количество слов в нём)   \n",
        "*avgdl* — средняя длина документа в коллекции    \n",
        "$k$ и $b$ — свободные коэффициенты, обычно их выбирают как $k$=2.0 и $b$=0.75   \n",
        "$$$$\n",
        "$\\text{IDF}(q_i)$ - это модернизированная версия IDF: \n",
        "$$\\text{IDF}(q_i) = \\log\\frac{N-n(q_i)+0.5}{n(q_i)+0.5},$$\n",
        ">> где $N$ - общее количество документов в коллекции   \n",
        "$n(q_i)$ — количество документов, содержащих $q_i$"
      ]
    },
    {
      "cell_type": "code",
      "metadata": {
        "id": "nLB0ZqEeW2Ty",
        "outputId": "604328f6-6286-462d-f5d9-4259d3194719",
        "colab": {
          "base_uri": "https://localhost:8080/",
          "height": 195
        }
      },
      "source": [
        "list_tokens = []\n",
        "def get_num_tokens(text):\n",
        "    tokenized_text = tokenize(text)\n",
        "    num_tokens = len(list(tokenized_text))\n",
        "    tokenized_text = list(tokenized_text)\n",
        "    return num_tokens,tokenized_text\n",
        "\n",
        "for text in list(answers['Текст вопросов']):\n",
        "  list_tokens.append(get_num_tokens(text)[0])\n",
        "\n",
        "answers['кол-во токенов'] = list_tokens\n",
        "answers.head()"
      ],
      "execution_count": 30,
      "outputs": [
        {
          "output_type": "execute_result",
          "data": {
            "text/html": [
              "<div>\n",
              "<style scoped>\n",
              "    .dataframe tbody tr th:only-of-type {\n",
              "        vertical-align: middle;\n",
              "    }\n",
              "\n",
              "    .dataframe tbody tr th {\n",
              "        vertical-align: top;\n",
              "    }\n",
              "\n",
              "    .dataframe thead th {\n",
              "        text-align: right;\n",
              "    }\n",
              "</style>\n",
              "<table border=\"1\" class=\"dataframe\">\n",
              "  <thead>\n",
              "    <tr style=\"text-align: right;\">\n",
              "      <th></th>\n",
              "      <th>Номер связки</th>\n",
              "      <th>Текст вопросов</th>\n",
              "      <th>Текст ответа</th>\n",
              "      <th>Тематика</th>\n",
              "      <th>кол-во токенов</th>\n",
              "    </tr>\n",
              "  </thead>\n",
              "  <tbody>\n",
              "    <tr>\n",
              "      <th>0</th>\n",
              "      <td>57</td>\n",
              "      <td>У ребенка в школе продлили каникулы. Могу ли я...</td>\n",
              "      <td>Листок временной нетрудоспособности (больничны...</td>\n",
              "      <td>БОЛЬНИЧНЫЙ ЛИСТ</td>\n",
              "      <td>146</td>\n",
              "    </tr>\n",
              "    <tr>\n",
              "      <th>1</th>\n",
              "      <td>78</td>\n",
              "      <td>Где сделать вакцинацию от коронавируса?\\nСущес...</td>\n",
              "      <td>Коронавирусы - это целое семейство вирусов, ко...</td>\n",
              "      <td>ВАКЦИНАЦИЯ</td>\n",
              "      <td>119</td>\n",
              "    </tr>\n",
              "    <tr>\n",
              "      <th>2</th>\n",
              "      <td>326</td>\n",
              "      <td>Сколько стоит сделать вакцину от гриппа?\\nМожн...</td>\n",
              "      <td>Бесплатно пройти вакцинацию можно в Вашей меди...</td>\n",
              "      <td>ВАКЦИНАЦИЯ</td>\n",
              "      <td>22</td>\n",
              "    </tr>\n",
              "    <tr>\n",
              "      <th>3</th>\n",
              "      <td>327</td>\n",
              "      <td>Могу я отказаться от вакцинации?\\nВ каких случ...</td>\n",
              "      <td>Согласно приказу Министерства здравоохранения ...</td>\n",
              "      <td>ВАКЦИНАЦИЯ</td>\n",
              "      <td>44</td>\n",
              "    </tr>\n",
              "    <tr>\n",
              "      <th>4</th>\n",
              "      <td>328</td>\n",
              "      <td>Безопасна ли вакцинация?\\nОпасна ли вакцинация...</td>\n",
              "      <td>В соответствии с пунктами 1 и 2 статьи 12 Феде...</td>\n",
              "      <td>ВАКЦИНАЦИЯ</td>\n",
              "      <td>11</td>\n",
              "    </tr>\n",
              "  </tbody>\n",
              "</table>\n",
              "</div>"
            ],
            "text/plain": [
              "   Номер связки  ... кол-во токенов\n",
              "0            57  ...            146\n",
              "1            78  ...            119\n",
              "2           326  ...             22\n",
              "3           327  ...             44\n",
              "4           328  ...             11\n",
              "\n",
              "[5 rows x 5 columns]"
            ]
          },
          "metadata": {
            "tags": []
          },
          "execution_count": 30
        }
      ]
    },
    {
      "cell_type": "code",
      "metadata": {
        "id": "WHkEBe15YZVs",
        "outputId": "e4d62b0d-480b-4254-8241-05ac94874cd0",
        "colab": {
          "base_uri": "https://localhost:8080/",
          "height": 34
        }
      },
      "source": [
        "k = 2.0\n",
        "b = 0.75\n",
        "N = len(answers['Текст вопросов'])\n",
        "avgdl = answers['кол-во токенов'].mean()\n",
        "\n",
        "def BM_25(D, Q):\n",
        "  l = get_num_tokens(D)[0]\n",
        "  freq = len(pd_matrix_answers[pd_matrix_answers[Q]>0])\n",
        "  idf = log((N- freq + 0.5)/(freq + 0.5))\n",
        "  i = 0\n",
        "  for words in get_num_tokens(D)[1]:\n",
        "    if Q == word:\n",
        "      i+=1\n",
        "  tf = i / l\n",
        "  result = idf * ((tf*(k+1))/(tf+k*(1-b+b*(l/avgdl))))\n",
        "  return result\n",
        "  \n",
        "\n",
        "\n",
        "D =  list(answers['Текст вопросов'].head(1))[0]\n",
        "Q = 'covid'\n",
        "BM_25(D, Q)"
      ],
      "execution_count": 32,
      "outputs": [
        {
          "output_type": "execute_result",
          "data": {
            "text/plain": [
              "0.0"
            ]
          },
          "metadata": {
            "tags": []
          },
          "execution_count": 32
        }
      ]
    }
  ]
}