{
  "nbformat": 4,
  "nbformat_minor": 0,
  "metadata": {
    "colab": {
      "name": "hw_4.ipynb",
      "provenance": []
    },
    "kernelspec": {
      "name": "python3",
      "display_name": "Python 3"
    }
  },
  "cells": [
    {
      "cell_type": "markdown",
      "metadata": {
        "id": "6WPTDpGds-vd"
      },
      "source": [
        "# Семинар"
      ]
    },
    {
      "cell_type": "code",
      "metadata": {
        "id": "T6LpiLB54zXY"
      },
      "source": [
        "!pip install --upgrade gensim\n",
        "\n",
        "%load_ext autoreload\n",
        "\n",
        "from gensim.models import Word2Vec, KeyedVectors"
      ],
      "execution_count": null,
      "outputs": []
    },
    {
      "cell_type": "code",
      "metadata": {
        "id": "ddFYgWDKrYe1",
        "outputId": "84d7932e-5937-4485-ec7d-982872ebd92e",
        "colab": {
          "base_uri": "https://localhost:8080/",
          "height": 35
        }
      },
      "source": [
        "import gensim\n",
        "gensim.__version__"
      ],
      "execution_count": 4,
      "outputs": [
        {
          "output_type": "execute_result",
          "data": {
            "application/vnd.google.colaboratory.intrinsic+json": {
              "type": "string"
            },
            "text/plain": [
              "'3.8.3'"
            ]
          },
          "metadata": {
            "tags": []
          },
          "execution_count": 4
        }
      ]
    },
    {
      "cell_type": "code",
      "metadata": {
        "id": "RaI3yZBy5a3n"
      },
      "source": [
        "# загрузка модели\n",
        "from gensim.models import Word2Vec, KeyedVectors\n",
        "\n",
        "!wget -c https://rusvectores.org/static/models/rusvectores4/fasttext/araneum_none_fasttextcbow_300_5_2018.tgz\n",
        "!tar -xzf araneum_none_fasttextcbow_300_5_2018.tgz\n",
        "\n",
        "model_file = 'araneum_none_fasttextcbow_300_5_2018.model'\n",
        "model = KeyedVectors.load(model_file)"
      ],
      "execution_count": null,
      "outputs": []
    },
    {
      "cell_type": "code",
      "metadata": {
        "id": "jqI7Kj-X63z0",
        "outputId": "ec3e1479-6349-4bb1-9bc8-dd4e3861d390",
        "colab": {
          "base_uri": "https://localhost:8080/",
          "height": 34
        }
      },
      "source": [
        "#проверка наличия слова в словаре\n",
        "\n",
        "lemma = 'заграница'\n",
        "lemma in model"
      ],
      "execution_count": 16,
      "outputs": [
        {
          "output_type": "execute_result",
          "data": {
            "text/plain": [
              "True"
            ]
          },
          "metadata": {
            "tags": []
          },
          "execution_count": 16
        }
      ]
    },
    {
      "cell_type": "markdown",
      "metadata": {
        "id": "aNClXNdr92dJ"
      },
      "source": [
        "## Получение вектора документа\n",
        "\n",
        "Отлично, вектора для слов получены. Что с ними делать дальше? \n",
        "\n",
        "Есть два подхода (а точнее есть один, а второй мы придумали, потому что с одним жить нельзя).\n",
        "> Классика - для получения вектора документа нужно взять и усреднить все вектора его слов\n",
        " \n",
        "$$ vec_{doc} = \\frac {\\sum_{i=0}^{n} vec_i}{len(d)} $$"
      ]
    },
    {
      "cell_type": "code",
      "metadata": {
        "id": "HNnO78mp9xPs",
        "outputId": "deb9974c-9ab9-4850-e9d2-9a9d70060226",
        "colab": {
          "base_uri": "https://localhost:8080/",
          "height": 34
        }
      },
      "source": [
        "import numpy as np\n",
        "\n",
        "# сделали препроцессинг, получили леммы \n",
        "lemmas = ['старинный', 'замок']\n",
        "\n",
        "# создаем вектор-маску\n",
        "lemmas_vectors = np.zeros((len(lemmas), model.vector_size))\n",
        "print(lemmas_vectors.shape)\n",
        "vec = np.zeros((model.vector_size,))\n",
        "\n",
        "# если слово есть в модели, берем его вектор\n",
        "for idx, lemma in enumerate(lemmas):\n",
        "    if lemma in model:\n",
        "        lemmas_vectors[idx] = model[lemma]\n",
        "        \n",
        "# проверка на случай, если на вход пришел пустой массив\n",
        "if lemmas_vectors.shape[0] is not 0:\n",
        "    vec = np.mean(lemmas_vectors, axis=0)"
      ],
      "execution_count": null,
      "outputs": [
        {
          "output_type": "stream",
          "text": [
            "(2, 300)\n"
          ],
          "name": "stdout"
        }
      ]
    },
    {
      "cell_type": "markdown",
      "metadata": {
        "id": "ZpxT1rksCxEW"
      },
      "source": [
        "> Эксперимент - представим документ не в виде одного уредненного вектора, а как матрицу векторов входящих в него слов\n",
        "\n",
        "```\n",
        " слово1 |  v1_300\n",
        " слово2 |  v2_300\n",
        " слово3 |  v3_300\n",
        " слово4 |  v4_300\n",
        "```\n",
        "\n",
        "> Отлично, теперь каждый документ представлен в виде матрицы векторов своих слов. Но нам надо получить близость матрицы документа в коллекции и матрицы входящего запроса. Как? Умножим две матрицы друг на друга - одна матрица размером d x 300, другая q x 300 - получим попарную близость слов из каждого документа - матрицу размером d x q.\n"
      ]
    },
    {
      "cell_type": "code",
      "metadata": {
        "id": "Bjm6TW6jsIO3"
      },
      "source": [
        "# возьмем игрушечный пример кейса\n",
        "\n",
        "text1 = 'турция' \n",
        "text2 = 'нужна справка срочно'\n",
        "query = 'быстрая справка'"
      ],
      "execution_count": null,
      "outputs": []
    },
    {
      "cell_type": "code",
      "metadata": {
        "id": "C4ImHoqonda9",
        "outputId": "c6190a2a-ec5f-4c8d-d868-6baeb190b4cd",
        "colab": {
          "base_uri": "https://localhost:8080/",
          "height": 84
        }
      },
      "source": [
        "# построим матрицы всех документов\n",
        "\n",
        "def normalize_vec(v):\n",
        "     return v / np.sqrt(np.sum(v ** 2))\n",
        "\n",
        "def create_doc_matrix(text):\n",
        "    lemmas = text.split()\n",
        "    lemmas_vectors = np.zeros((len(lemmas), model.vector_size))\n",
        "    vec = np.zeros((model.vector_size,))\n",
        "\n",
        "    for idx, lemma in enumerate(lemmas):\n",
        "        if lemma in model.wv:\n",
        "            lemmas_vectors[idx] = normalize_vec(model.wv[lemma])\n",
        "            \n",
        "    return lemmas_vectors    \n",
        "\n",
        "\n",
        "text1_m = create_doc_matrix(text1)\n",
        "text2_m = create_doc_matrix(text2)\n",
        "query_m = create_doc_matrix(query)"
      ],
      "execution_count": null,
      "outputs": [
        {
          "output_type": "stream",
          "text": [
            "/usr/local/lib/python3.6/dist-packages/ipykernel_launcher.py:9: DeprecationWarning: Call to deprecated `wv` (Attribute will be removed in 4.0.0, use self instead).\n",
            "  if __name__ == '__main__':\n",
            "/usr/local/lib/python3.6/dist-packages/ipykernel_launcher.py:10: DeprecationWarning: Call to deprecated `wv` (Attribute will be removed in 4.0.0, use self instead).\n",
            "  # Remove the CWD from sys.path while we load stuff.\n"
          ],
          "name": "stderr"
        }
      ]
    },
    {
      "cell_type": "code",
      "metadata": {
        "id": "mX5NsYCYsPd9",
        "outputId": "4abbc58b-3352-4fdd-cb51-c2f79c39f8b8",
        "colab": {
          "base_uri": "https://localhost:8080/",
          "height": 34
        }
      },
      "source": [
        "# размер матрицы как и ожидали\n",
        "query_m.shape"
      ],
      "execution_count": null,
      "outputs": [
        {
          "output_type": "execute_result",
          "data": {
            "text/plain": [
              "(2, 300)"
            ]
          },
          "metadata": {
            "tags": []
          },
          "execution_count": 11
        }
      ]
    },
    {
      "cell_type": "code",
      "metadata": {
        "id": "FIymwMdDsjSu",
        "outputId": "99bcfba2-f281-4b7b-ca7f-44ea4010a156",
        "colab": {
          "base_uri": "https://localhost:8080/",
          "height": 34
        }
      },
      "source": [
        "# посмотрим на близость слов первого текста и слов запроса\n",
        "text1_m.dot(query_m.T)"
      ],
      "execution_count": null,
      "outputs": [
        {
          "output_type": "execute_result",
          "data": {
            "text/plain": [
              "array([[0.09587915, 0.01183069]])"
            ]
          },
          "metadata": {
            "tags": []
          },
          "execution_count": 12
        }
      ]
    },
    {
      "cell_type": "code",
      "metadata": {
        "id": "sl936xzbsl4k",
        "outputId": "a71d13c7-c087-446f-83cd-872b18eaa010",
        "colab": {
          "base_uri": "https://localhost:8080/",
          "height": 67
        }
      },
      "source": [
        "# посмотрим на близость слов второго текста и слов запроса\n",
        "text2_m.dot(query_m.T)"
      ],
      "execution_count": null,
      "outputs": [
        {
          "output_type": "execute_result",
          "data": {
            "text/plain": [
              "array([[-0.0260624 ,  0.11607588],\n",
              "       [ 0.01341236,  1.00000011],\n",
              "       [ 0.22505549,  0.33582122]])"
            ]
          },
          "metadata": {
            "tags": []
          },
          "execution_count": 13
        }
      ]
    },
    {
      "cell_type": "code",
      "metadata": {
        "id": "cKytqNXYsri4",
        "outputId": "6b491fbb-bde8-4ab0-f6ea-76f26287098f",
        "colab": {
          "base_uri": "https://localhost:8080/",
          "height": 50
        }
      },
      "source": [
        "docs_m = [text1_m, text2_m]\n",
        "\n",
        "def search(docs, query, reduce_func=np.max, axis=0):\n",
        "    sims = []\n",
        "    for doc in docs:\n",
        "        sim = doc.dot(query.T)\n",
        "        sim = reduce_func(sim, axis=axis)\n",
        "        sims.append(sim.sum())\n",
        "    print(sims)\n",
        "    return np.argmax(sims)\n",
        "\n",
        "\n",
        "search(docs_m, query_m)"
      ],
      "execution_count": null,
      "outputs": [
        {
          "output_type": "stream",
          "text": [
            "[0.10770983955697251, 1.225055597288777]\n"
          ],
          "name": "stdout"
        },
        {
          "output_type": "execute_result",
          "data": {
            "text/plain": [
              "1"
            ]
          },
          "metadata": {
            "tags": []
          },
          "execution_count": 14
        }
      ]
    },
    {
      "cell_type": "markdown",
      "metadata": {
        "id": "EJ1dRgXms5V2"
      },
      "source": [
        "# Реализуйте поиск по нашему стандартному Covid корпусу с помощью модели на Araneum двумя способами:\n",
        "\n",
        "    1. преобразуйте каждый документ в вектор через усреднение векторов его слов и реализуйте поисковик как \n",
        "    обычно через умножение матрицы документов коллекции на вектор запроса \n",
        "    2. экспериментальный способ - реализуйте поиск ближайшего документа в коллекции к запросу, преобразовав \n",
        "    каждый документ в матрицу (количество слов x размер модели)\n",
        "    \n",
        "Посчитайте качество поиска для каждой модели на тех же данных, что и в предыдущем задании. В качестве препроцессинга используйте две версии - с удалением NER и без удаления."
      ]
    },
    {
      "cell_type": "code",
      "metadata": {
        "id": "H0illiunsyZy"
      },
      "source": [
        "import pandas as pd\n",
        "\n",
        "# это таблички, сохраненные после предыдущих домашек, там уже есть тексты:\n",
        "# 1. Тексты вопросов без NER DEEPMINT\n",
        "# 2. Тексты вопросов без NER NATASHA\n",
        "# + они же после препросессинга\n",
        "\n",
        "answers = pd.read_excel('/content/answers.xlsx')\n",
        "queries = pd.read_excel('/content/queries.xlsx')"
      ],
      "execution_count": 8,
      "outputs": []
    },
    {
      "cell_type": "code",
      "metadata": {
        "id": "XOwlOOj7vamz",
        "outputId": "3513c97f-fb20-4073-cb47-2c6c0952b177",
        "colab": {
          "base_uri": "https://localhost:8080/",
          "height": 127
        }
      },
      "source": [
        "answers.head(1)"
      ],
      "execution_count": null,
      "outputs": [
        {
          "output_type": "execute_result",
          "data": {
            "text/html": [
              "<div>\n",
              "<style scoped>\n",
              "    .dataframe tbody tr th:only-of-type {\n",
              "        vertical-align: middle;\n",
              "    }\n",
              "\n",
              "    .dataframe tbody tr th {\n",
              "        vertical-align: top;\n",
              "    }\n",
              "\n",
              "    .dataframe thead th {\n",
              "        text-align: right;\n",
              "    }\n",
              "</style>\n",
              "<table border=\"1\" class=\"dataframe\">\n",
              "  <thead>\n",
              "    <tr style=\"text-align: right;\">\n",
              "      <th></th>\n",
              "      <th>Unnamed: 0</th>\n",
              "      <th>Номер связки</th>\n",
              "      <th>Текст вопросов</th>\n",
              "      <th>Текст ответов</th>\n",
              "      <th>Тематика</th>\n",
              "      <th>Текст вопросов без NER DEEPMINT</th>\n",
              "      <th>Текст вопросов без NER NATASHA</th>\n",
              "      <th>deepmint_preprocessed</th>\n",
              "      <th>natasha_preprocessed</th>\n",
              "    </tr>\n",
              "  </thead>\n",
              "  <tbody>\n",
              "    <tr>\n",
              "      <th>0</th>\n",
              "      <td>0</td>\n",
              "      <td>57</td>\n",
              "      <td>У ребенка в школе продлили каникулы. Могу ли я...</td>\n",
              "      <td>Листок временной нетрудоспособности (больничны...</td>\n",
              "      <td>БОЛЬНИЧНЫЙ ЛИСТ</td>\n",
              "      <td>У ребенка в школе продлили каникулы. Могу ли я...</td>\n",
              "      <td>У ребенка в школе продлили каникулы. Могу ли я...</td>\n",
              "      <td>ребёнок школа продлить каникулы  мочь взять бо...</td>\n",
              "      <td>ребёнок школа продлить каникулы  мочь взять бо...</td>\n",
              "    </tr>\n",
              "  </tbody>\n",
              "</table>\n",
              "</div>"
            ],
            "text/plain": [
              "   Unnamed: 0  ...                               natasha_preprocessed\n",
              "0           0  ...  ребёнок школа продлить каникулы  мочь взять бо...\n",
              "\n",
              "[1 rows x 9 columns]"
            ]
          },
          "metadata": {
            "tags": []
          },
          "execution_count": 16
        }
      ]
    },
    {
      "cell_type": "code",
      "metadata": {
        "id": "7K5w3a5xvdD8",
        "outputId": "e5a0d76b-457e-4a1e-9aea-6c4e442de150",
        "colab": {
          "base_uri": "https://localhost:8080/",
          "height": 110
        }
      },
      "source": [
        "queries.head(1)"
      ],
      "execution_count": null,
      "outputs": [
        {
          "output_type": "execute_result",
          "data": {
            "text/html": [
              "<div>\n",
              "<style scoped>\n",
              "    .dataframe tbody tr th:only-of-type {\n",
              "        vertical-align: middle;\n",
              "    }\n",
              "\n",
              "    .dataframe tbody tr th {\n",
              "        vertical-align: top;\n",
              "    }\n",
              "\n",
              "    .dataframe thead th {\n",
              "        text-align: right;\n",
              "    }\n",
              "</style>\n",
              "<table border=\"1\" class=\"dataframe\">\n",
              "  <thead>\n",
              "    <tr style=\"text-align: right;\">\n",
              "      <th></th>\n",
              "      <th>Unnamed: 0</th>\n",
              "      <th>Текст вопросов</th>\n",
              "      <th>Номер связки</th>\n",
              "      <th>Тематика</th>\n",
              "      <th>Текст вопросов без NER NATASHA</th>\n",
              "      <th>Текст вопросов без NER DEEPMINT</th>\n",
              "      <th>deepmint_preprocessed</th>\n",
              "      <th>natasha_preprocessed</th>\n",
              "    </tr>\n",
              "  </thead>\n",
              "  <tbody>\n",
              "    <tr>\n",
              "      <th>0</th>\n",
              "      <td>0</td>\n",
              "      <td>с уважением Вероника Игоревна  Ильич\\n\\nПосле ...</td>\n",
              "      <td>308.0</td>\n",
              "      <td>ЗАКРЫТИЕ ГРАНИЦ, ОТКРЫТИЕ ГРАНИЦ РОССИИ И АВИА...</td>\n",
              "      <td>с уважением \\n\\nПосле 15 августа 2020 года к н...</td>\n",
              "      <td>с уважением    \\n\\nПосле 15 августа 2020 года ...</td>\n",
              "      <td>уважение 15 август 2020 год мы  планировать пр...</td>\n",
              "      <td>уважение 15 август 2020 год мы  планировать пр...</td>\n",
              "    </tr>\n",
              "  </tbody>\n",
              "</table>\n",
              "</div>"
            ],
            "text/plain": [
              "   Unnamed: 0  ...                               natasha_preprocessed\n",
              "0           0  ...  уважение 15 август 2020 год мы  планировать пр...\n",
              "\n",
              "[1 rows x 8 columns]"
            ]
          },
          "metadata": {
            "tags": []
          },
          "execution_count": 17
        }
      ]
    },
    {
      "cell_type": "code",
      "metadata": {
        "id": "OYKB-9jsvuVC"
      },
      "source": [
        "!pip install razdel\n",
        "!pip install pymorphy2\n",
        "\n",
        "import pandas as pd\n",
        "import numpy as np\n",
        "from razdel import tokenize\n",
        "from razdel import sentenize\n",
        "import nltk\n",
        "from nltk.corpus import stopwords\n",
        "from string import punctuation\n",
        "import pymorphy2\n",
        "\n",
        "morph = pymorphy2.MorphAnalyzer()\n",
        "nltk.download('stopwords')  \n",
        "nltk.download('punkt')\n",
        "russian_stopwords = stopwords.words('russian')\n",
        "\n",
        "def preprocessing(text: str) -> str:\n",
        "  tokens = list(tokenize(text))\n",
        "  tokens = [_.text for _ in tokens]\n",
        "  tokens = [word.lower() for word in tokens if word.lower() not in russian_stopwords]\n",
        "  tokens = [(token.translate(str.maketrans('', '', punctuation))) for token in tokens]\n",
        "  lemmas = [morph.parse(token)[0].normal_form for token in tokens]\n",
        "\n",
        "  return \" \".join(lemmas)"
      ],
      "execution_count": null,
      "outputs": []
    },
    {
      "cell_type": "code",
      "metadata": {
        "id": "JfHkrE9UwvVj",
        "outputId": "9f597c84-262a-41ee-b8cc-6056d9d5968b",
        "colab": {
          "base_uri": "https://localhost:8080/",
          "height": 144
        }
      },
      "source": [
        "preprocessed_texts_plain = [preprocessing(str(text)) for text in list(answers['Текст вопросов'])]\n",
        "answers['preprocessed_texts_plain'] = preprocessed_texts_plain\n",
        "answers.head(1)"
      ],
      "execution_count": 10,
      "outputs": [
        {
          "output_type": "execute_result",
          "data": {
            "text/html": [
              "<div>\n",
              "<style scoped>\n",
              "    .dataframe tbody tr th:only-of-type {\n",
              "        vertical-align: middle;\n",
              "    }\n",
              "\n",
              "    .dataframe tbody tr th {\n",
              "        vertical-align: top;\n",
              "    }\n",
              "\n",
              "    .dataframe thead th {\n",
              "        text-align: right;\n",
              "    }\n",
              "</style>\n",
              "<table border=\"1\" class=\"dataframe\">\n",
              "  <thead>\n",
              "    <tr style=\"text-align: right;\">\n",
              "      <th></th>\n",
              "      <th>Unnamed: 0</th>\n",
              "      <th>Номер связки</th>\n",
              "      <th>Текст вопросов</th>\n",
              "      <th>Текст ответов</th>\n",
              "      <th>Тематика</th>\n",
              "      <th>Текст вопросов без NER DEEPMINT</th>\n",
              "      <th>Текст вопросов без NER NATASHA</th>\n",
              "      <th>deepmint_preprocessed</th>\n",
              "      <th>natasha_preprocessed</th>\n",
              "      <th>preprocessed_texts_plain</th>\n",
              "    </tr>\n",
              "  </thead>\n",
              "  <tbody>\n",
              "    <tr>\n",
              "      <th>0</th>\n",
              "      <td>0</td>\n",
              "      <td>57</td>\n",
              "      <td>У ребенка в школе продлили каникулы. Могу ли я...</td>\n",
              "      <td>Листок временной нетрудоспособности (больничны...</td>\n",
              "      <td>БОЛЬНИЧНЫЙ ЛИСТ</td>\n",
              "      <td>У ребенка в школе продлили каникулы. Могу ли я...</td>\n",
              "      <td>У ребенка в школе продлили каникулы. Могу ли я...</td>\n",
              "      <td>ребёнок школа продлить каникулы  мочь взять бо...</td>\n",
              "      <td>ребёнок школа продлить каникулы  мочь взять бо...</td>\n",
              "      <td>ребёнок школа продлить каникулы  мочь взять бо...</td>\n",
              "    </tr>\n",
              "  </tbody>\n",
              "</table>\n",
              "</div>"
            ],
            "text/plain": [
              "   Unnamed: 0  ...                           preprocessed_texts_plain\n",
              "0           0  ...  ребёнок школа продлить каникулы  мочь взять бо...\n",
              "\n",
              "[1 rows x 10 columns]"
            ]
          },
          "metadata": {
            "tags": []
          },
          "execution_count": 10
        }
      ]
    },
    {
      "cell_type": "code",
      "metadata": {
        "id": "gN9bYKMHxTPh",
        "outputId": "4ddb8bff-5225-4f3c-e8b4-e5d8826dc337",
        "colab": {
          "base_uri": "https://localhost:8080/",
          "height": 127
        }
      },
      "source": [
        "preprocessed_texts_plain = [preprocessing(str(text)) for text in list(queries['Текст вопросов'])]\n",
        "queries['preprocessed_texts_plain'] = preprocessed_texts_plain\n",
        "queries.head(1)"
      ],
      "execution_count": 11,
      "outputs": [
        {
          "output_type": "execute_result",
          "data": {
            "text/html": [
              "<div>\n",
              "<style scoped>\n",
              "    .dataframe tbody tr th:only-of-type {\n",
              "        vertical-align: middle;\n",
              "    }\n",
              "\n",
              "    .dataframe tbody tr th {\n",
              "        vertical-align: top;\n",
              "    }\n",
              "\n",
              "    .dataframe thead th {\n",
              "        text-align: right;\n",
              "    }\n",
              "</style>\n",
              "<table border=\"1\" class=\"dataframe\">\n",
              "  <thead>\n",
              "    <tr style=\"text-align: right;\">\n",
              "      <th></th>\n",
              "      <th>Unnamed: 0</th>\n",
              "      <th>Текст вопросов</th>\n",
              "      <th>Номер связки</th>\n",
              "      <th>Тематика</th>\n",
              "      <th>Текст вопросов без NER NATASHA</th>\n",
              "      <th>Текст вопросов без NER DEEPMINT</th>\n",
              "      <th>deepmint_preprocessed</th>\n",
              "      <th>natasha_preprocessed</th>\n",
              "      <th>preprocessed_texts_plain</th>\n",
              "    </tr>\n",
              "  </thead>\n",
              "  <tbody>\n",
              "    <tr>\n",
              "      <th>0</th>\n",
              "      <td>0</td>\n",
              "      <td>с уважением Вероника Игоревна  Ильич\\n\\nПосле ...</td>\n",
              "      <td>308.0</td>\n",
              "      <td>ЗАКРЫТИЕ ГРАНИЦ, ОТКРЫТИЕ ГРАНИЦ РОССИИ И АВИА...</td>\n",
              "      <td>с уважением \\n\\nПосле 15 августа 2020 года к н...</td>\n",
              "      <td>с уважением    \\n\\nПосле 15 августа 2020 года ...</td>\n",
              "      <td>уважение 15 август 2020 год мы  планировать пр...</td>\n",
              "      <td>уважение 15 август 2020 год мы  планировать пр...</td>\n",
              "      <td>уважение вероника игоревич ильич 15 август 202...</td>\n",
              "    </tr>\n",
              "  </tbody>\n",
              "</table>\n",
              "</div>"
            ],
            "text/plain": [
              "   Unnamed: 0  ...                           preprocessed_texts_plain\n",
              "0           0  ...  уважение вероника игоревич ильич 15 август 202...\n",
              "\n",
              "[1 rows x 9 columns]"
            ]
          },
          "metadata": {
            "tags": []
          },
          "execution_count": 11
        }
      ]
    },
    {
      "cell_type": "markdown",
      "metadata": {
        "id": "PINL5ddrxkNS"
      },
      "source": [
        "# МАТРИЦЫ"
      ]
    },
    {
      "cell_type": "code",
      "metadata": {
        "id": "VlD1ZbeQ0VaK",
        "outputId": "8ec8ed82-544e-400f-be78-1c2877af9f09",
        "colab": {
          "base_uri": "https://localhost:8080/",
          "height": 34
        }
      },
      "source": [
        "from sklearn.model_selection import train_test_split\n",
        "\n",
        "columns = ['Номер связки', 'preprocessed_texts_plain', 'deepmint_preprocessed', 'natasha_preprocessed']\n",
        "\n",
        "answers_train = pd.DataFrame(answers, columns=columns)\n",
        "queries_train = pd.DataFrame(queries, columns=columns)\n",
        "\n",
        "train_quer, test = train_test_split(queries_train, test_size=0.3, random_state=7654)\n",
        "train = pd.concat([answers_train, train_quer])\n",
        "print(train.shape, test.shape)"
      ],
      "execution_count": 12,
      "outputs": [
        {
          "output_type": "stream",
          "text": [
            "(1652, 4) (690, 4)\n"
          ],
          "name": "stdout"
        }
      ]
    },
    {
      "cell_type": "code",
      "metadata": {
        "id": "Gmns7CgRxuJV"
      },
      "source": [
        "# построим матрицы всех документов\n",
        "\n",
        "def normalize_vec(v):\n",
        "     return v / np.sqrt(np.sum(v ** 2))\n",
        "\n",
        "def create_doc_matrix(text):\n",
        "    lemmas = text.split()\n",
        "    lemmas_vectors = np.zeros((len(lemmas), model.vector_size))\n",
        "    vec = np.zeros((model.vector_size,))\n",
        "\n",
        "    for idx, lemma in enumerate(lemmas):\n",
        "        if lemma in model.wv:\n",
        "            lemmas_vectors[idx] = normalize_vec(model.wv[lemma])\n",
        "            \n",
        "    return lemmas_vectors    \n",
        "\n",
        "def search(docs, query, reduce_func=np.max, axis=0):\n",
        "    sims = []\n",
        "    for doc in docs:\n",
        "        sim = doc.dot(query.T)\n",
        "        sim = reduce_func(sim, axis=axis)\n",
        "        sims.append(sim.sum())\n",
        "    return np.argmax(sims)"
      ],
      "execution_count": 13,
      "outputs": []
    },
    {
      "cell_type": "code",
      "metadata": {
        "id": "U3ma7Oa_yHNb"
      },
      "source": [
        "plain_matrix = [create_doc_matrix(str(text)) for text in train['preprocessed_texts_plain']]\n",
        "natasha_matrix = [create_doc_matrix(str(text)) for text in train['natasha_preprocessed']]\n",
        "deepmint_matrix = [create_doc_matrix(str(text)) for text in train['deepmint_preprocessed']]"
      ],
      "execution_count": null,
      "outputs": []
    },
    {
      "cell_type": "code",
      "metadata": {
        "id": "jAvUeEg22qHM"
      },
      "source": [
        "from tqdm import tqdm\n",
        "\n",
        "links = list(train['Номер связки'])\n",
        "\n",
        "plain_matrix_test = [create_doc_matrix(str(text)) for text in tqdm(test['preprocessed_texts_plain'])]\n",
        "plain_score = [links[search(plain_matrix , text)] for text in tqdm(plain_matrix_test)]"
      ],
      "execution_count": null,
      "outputs": []
    },
    {
      "cell_type": "code",
      "metadata": {
        "id": "pMAIN_A7Idw0"
      },
      "source": [
        "natasha_matrix_test = [create_doc_matrix(str(text)) for text in tqdm(test['natasha_preprocessed'])]\n",
        "natasha_score = [links[search(natasha_matrix , text)] for text in tqdm(natasha_matrix_test)]"
      ],
      "execution_count": null,
      "outputs": []
    },
    {
      "cell_type": "code",
      "metadata": {
        "id": "lmyXD7_3Jh8A"
      },
      "source": [
        "deepmint_matrix_test = [create_doc_matrix(str(text)) for text in tqdm(test['deepmint_preprocessed'])]\n",
        "deepmint_score = [links[search(deepmint_matrix , text)] for text in tqdm(deepmint_matrix_test)]"
      ],
      "execution_count": null,
      "outputs": []
    },
    {
      "cell_type": "code",
      "metadata": {
        "id": "yLUHRP-tJZNJ"
      },
      "source": [
        "from sklearn.metrics import accuracy_score\n",
        "\n",
        "test = test.fillna(0)\n",
        "test.astype({'Номер связки': 'int32'}).dtypes"
      ],
      "execution_count": null,
      "outputs": []
    },
    {
      "cell_type": "code",
      "metadata": {
        "id": "6hShoQEmDgNL",
        "outputId": "4c12395b-3b10-4020-fd9b-71b33b14ff46",
        "colab": {
          "base_uri": "https://localhost:8080/",
          "height": 34
        }
      },
      "source": [
        "test['plain_score'] = plain_score\n",
        "test = test.fillna(0)\n",
        "test.astype({'plain_score': 'int32'}).dtypes\n",
        "\n",
        "accuracy_score(test['Номер связки'], test['plain_score'])"
      ],
      "execution_count": 30,
      "outputs": [
        {
          "output_type": "execute_result",
          "data": {
            "text/plain": [
              "0.47101449275362317"
            ]
          },
          "metadata": {
            "tags": []
          },
          "execution_count": 30
        }
      ]
    },
    {
      "cell_type": "code",
      "metadata": {
        "id": "wm-r1hkJJaam",
        "outputId": "a8b1d5c0-4f45-4399-9e7f-2d93d5b0da15",
        "colab": {
          "base_uri": "https://localhost:8080/",
          "height": 34
        }
      },
      "source": [
        "test['natasha_score'] = natasha_score\n",
        "test = test.fillna(0)\n",
        "test.astype({'natasha_score': 'int32'}).dtypes\n",
        "\n",
        "accuracy_score(test['Номер связки'], test['natasha_score'])"
      ],
      "execution_count": 32,
      "outputs": [
        {
          "output_type": "execute_result",
          "data": {
            "text/plain": [
              "0.4623188405797101"
            ]
          },
          "metadata": {
            "tags": []
          },
          "execution_count": 32
        }
      ]
    },
    {
      "cell_type": "code",
      "metadata": {
        "id": "Gjj7A11lJgkh",
        "outputId": "82191c51-33f9-48ac-fb0b-e8cbd06d895c",
        "colab": {
          "base_uri": "https://localhost:8080/",
          "height": 34
        }
      },
      "source": [
        "test['deepmint_score'] = deepmint_score\n",
        "test = test.fillna(0)\n",
        "test.astype({'deepmint_score': 'int32'}).dtypes\n",
        "\n",
        "accuracy_score(test['Номер связки'], test['deepmint_score'])"
      ],
      "execution_count": 34,
      "outputs": [
        {
          "output_type": "execute_result",
          "data": {
            "text/plain": [
              "0.4608695652173913"
            ]
          },
          "metadata": {
            "tags": []
          },
          "execution_count": 34
        }
      ]
    },
    {
      "cell_type": "markdown",
      "metadata": {
        "id": "-l7VgUpXxr1V"
      },
      "source": [
        "# ВЕКТОРИЦАЗИЯ"
      ]
    },
    {
      "cell_type": "code",
      "metadata": {
        "id": "yx6ox7gNxrfS"
      },
      "source": [
        "def normalize_vec(v):\n",
        "     return v / np.sqrt(np.sum(v ** 2))\n",
        "\n",
        "def make_vec(text):\n",
        "  # сделали препроцессинг, получили леммы \n",
        "  lemmas = text.split()\n",
        "\n",
        "  # создаем вектор-маску\n",
        "  lemmas_vectors = np.zeros((len(lemmas), model.vector_size))\n",
        "\n",
        "  vec = np.zeros((model.vector_size,))\n",
        "\n",
        "  # если слово есть в модели, берем его вектор\n",
        "  for idx, lemma in enumerate(lemmas):\n",
        "      if lemma in model:\n",
        "          lemmas_vectors[idx] = model[lemma]\n",
        "          \n",
        "  # проверка на случай, если на вход пришел пустой массив\n",
        "  if lemmas_vectors.shape[0] is not 0:\n",
        "      vec = np.mean(lemmas_vectors, axis=0)\n",
        "\n",
        "  return vec"
      ],
      "execution_count": 49,
      "outputs": []
    },
    {
      "cell_type": "code",
      "metadata": {
        "id": "tm-bwl_QLaUc",
        "outputId": "f90bffd5-c20e-4ba9-ba4b-c09700cb6307",
        "colab": {
          "base_uri": "https://localhost:8080/",
          "height": 34
        }
      },
      "source": [
        "from sklearn.model_selection import train_test_split\n",
        "\n",
        "columns = ['Номер связки', 'preprocessed_texts_plain', 'deepmint_preprocessed', 'natasha_preprocessed']\n",
        "\n",
        "answers_train = pd.DataFrame(answers, columns=columns)\n",
        "queries_train = pd.DataFrame(queries, columns=columns)\n",
        "\n",
        "train_quer, test = train_test_split(queries_train, test_size=0.3, random_state=7654)\n",
        "train = pd.concat([answers_train, train_quer])\n",
        "print(train.shape, test.shape)"
      ],
      "execution_count": 48,
      "outputs": [
        {
          "output_type": "stream",
          "text": [
            "(1652, 4) (690, 4)\n"
          ],
          "name": "stdout"
        }
      ]
    },
    {
      "cell_type": "code",
      "metadata": {
        "id": "CvxzPhAJL7bO"
      },
      "source": [
        "plain_vec = [normalize_vec(make_vec(str(text))) for text in train['preprocessed_texts_plain']]\n",
        "natasha_vec = [normalize_vec(make_vec(str(text))) for text in train['natasha_preprocessed']]\n",
        "deepmint_vec = [normalize_vec(make_vec(str(text))) for text in train['deepmint_preprocessed']]"
      ],
      "execution_count": 51,
      "outputs": []
    },
    {
      "cell_type": "code",
      "metadata": {
        "id": "4kzGIpNoMMFt"
      },
      "source": [
        "plain_martix = np.array(plain_vec)\n",
        "natasha_martix = np.array(natasha_vec)\n",
        "deepmint_martix = np.array(deepmint_vec)"
      ],
      "execution_count": 52,
      "outputs": []
    },
    {
      "cell_type": "code",
      "metadata": {
        "id": "UswaxT-jMxxg"
      },
      "source": [
        "def sim_vectors(matrix, query):\n",
        "  doc = normalize_vec(make_vec(query))\n",
        "  sim = matrix.dot(doc.T)\n",
        "  return sim"
      ],
      "execution_count": 53,
      "outputs": []
    },
    {
      "cell_type": "code",
      "metadata": {
        "id": "47ZCgHMzM8e-"
      },
      "source": [
        "plain_matrix_test = [sim_vectors(plain_martix, str(text)) for text in test['preprocessed_texts_plain']]\n",
        "plain_score = [links[np.argmax(text)] for text in tqdm(plain_matrix_test)]\n",
        "\n",
        "natasha_matrix_test = [sim_vectors(natasha_martix, str(text)) for text in test['natasha_preprocessed']]\n",
        "natasha_score = [links[np.argmax(text)] for text in tqdm(natasha_matrix_test)]\n",
        "\n",
        "deepmint_matrix_test = [sim_vectors(deepmint_martix, str(text)) for text in test['deepmint_preprocessed']]\n",
        "deepmint_score = [links[np.argmax(text)] for text in tqdm(deepmint_matrix_test)]"
      ],
      "execution_count": null,
      "outputs": []
    },
    {
      "cell_type": "code",
      "metadata": {
        "id": "RpT-crtpNqgk",
        "outputId": "1599a691-64ff-4983-d87a-9f4b1db0735f",
        "colab": {
          "base_uri": "https://localhost:8080/",
          "height": 34
        }
      },
      "source": [
        "test['plain_score_vec'] = plain_score\n",
        "test = test.fillna(0)\n",
        "test.astype({'plain_score_vec': 'int32'}).dtypes\n",
        "\n",
        "accuracy_score(test['Номер связки'], test['plain_score_vec'])"
      ],
      "execution_count": 58,
      "outputs": [
        {
          "output_type": "execute_result",
          "data": {
            "text/plain": [
              "0.5289855072463768"
            ]
          },
          "metadata": {
            "tags": []
          },
          "execution_count": 58
        }
      ]
    },
    {
      "cell_type": "code",
      "metadata": {
        "id": "3sv1_IibXc6v",
        "outputId": "b5ef410e-d0a7-4c54-e17f-f82bd1fa69dd",
        "colab": {
          "base_uri": "https://localhost:8080/",
          "height": 34
        }
      },
      "source": [
        "test['natasha_score_vec'] = natasha_score\n",
        "test = test.fillna(0)\n",
        "test.astype({'natasha_score_vec': 'int32'}).dtypes\n",
        "\n",
        "accuracy_score(test['Номер связки'], test['natasha_score_vec'])"
      ],
      "execution_count": 59,
      "outputs": [
        {
          "output_type": "execute_result",
          "data": {
            "text/plain": [
              "0.5057971014492754"
            ]
          },
          "metadata": {
            "tags": []
          },
          "execution_count": 59
        }
      ]
    },
    {
      "cell_type": "code",
      "metadata": {
        "id": "-JL_r0ghX3ca",
        "outputId": "d8cfee42-e063-4d1e-8128-096499321dd7",
        "colab": {
          "base_uri": "https://localhost:8080/",
          "height": 34
        }
      },
      "source": [
        "test['deepmint_score_vec'] = deepmint_score\n",
        "test = test.fillna(0)\n",
        "test.astype({'deepmint_score_vec': 'int32'}).dtypes\n",
        "\n",
        "accuracy_score(test['Номер связки'], test['deepmint_score_vec'])"
      ],
      "execution_count": 61,
      "outputs": [
        {
          "output_type": "execute_result",
          "data": {
            "text/plain": [
              "0.49130434782608695"
            ]
          },
          "metadata": {
            "tags": []
          },
          "execution_count": 61
        }
      ]
    }
  ]
}