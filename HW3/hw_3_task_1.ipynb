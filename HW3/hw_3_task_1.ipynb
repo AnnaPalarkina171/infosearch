{
  "nbformat": 4,
  "nbformat_minor": 0,
  "metadata": {
    "colab": {
      "name": "hw_3_task_1.ipynb",
      "provenance": []
    },
    "kernelspec": {
      "name": "python3",
      "display_name": "Python 3"
    },
    "widgets": {
      "application/vnd.jupyter.widget-state+json": {
        "047247fb99f0456888227e1ff8655218": {
          "model_module": "@jupyter-widgets/controls",
          "model_name": "HBoxModel",
          "state": {
            "_view_name": "HBoxView",
            "_dom_classes": [],
            "_model_name": "HBoxModel",
            "_view_module": "@jupyter-widgets/controls",
            "_model_module_version": "1.5.0",
            "_view_count": null,
            "_view_module_version": "1.5.0",
            "box_style": "",
            "layout": "IPY_MODEL_93866341a4354867b87df79c492f88fd",
            "_model_module": "@jupyter-widgets/controls",
            "children": [
              "IPY_MODEL_6bc7a411a84e469c83f9a801eeb1d29c",
              "IPY_MODEL_73abfe6d896d4a6087f6670f11b39dd8"
            ]
          }
        },
        "93866341a4354867b87df79c492f88fd": {
          "model_module": "@jupyter-widgets/base",
          "model_name": "LayoutModel",
          "state": {
            "_view_name": "LayoutView",
            "grid_template_rows": null,
            "right": null,
            "justify_content": null,
            "_view_module": "@jupyter-widgets/base",
            "overflow": null,
            "_model_module_version": "1.2.0",
            "_view_count": null,
            "flex_flow": null,
            "width": null,
            "min_width": null,
            "border": null,
            "align_items": null,
            "bottom": null,
            "_model_module": "@jupyter-widgets/base",
            "top": null,
            "grid_column": null,
            "overflow_y": null,
            "overflow_x": null,
            "grid_auto_flow": null,
            "grid_area": null,
            "grid_template_columns": null,
            "flex": null,
            "_model_name": "LayoutModel",
            "justify_items": null,
            "grid_row": null,
            "max_height": null,
            "align_content": null,
            "visibility": null,
            "align_self": null,
            "height": null,
            "min_height": null,
            "padding": null,
            "grid_auto_rows": null,
            "grid_gap": null,
            "max_width": null,
            "order": null,
            "_view_module_version": "1.2.0",
            "grid_template_areas": null,
            "object_position": null,
            "object_fit": null,
            "grid_auto_columns": null,
            "margin": null,
            "display": null,
            "left": null
          }
        },
        "6bc7a411a84e469c83f9a801eeb1d29c": {
          "model_module": "@jupyter-widgets/controls",
          "model_name": "FloatProgressModel",
          "state": {
            "_view_name": "ProgressView",
            "style": "IPY_MODEL_660d07bbe04d4086a7f8ad4ea4856e3b",
            "_dom_classes": [],
            "description": "100%",
            "_model_name": "FloatProgressModel",
            "bar_style": "success",
            "max": 2299,
            "_view_module": "@jupyter-widgets/controls",
            "_model_module_version": "1.5.0",
            "value": 2299,
            "_view_count": null,
            "_view_module_version": "1.5.0",
            "orientation": "horizontal",
            "min": 0,
            "description_tooltip": null,
            "_model_module": "@jupyter-widgets/controls",
            "layout": "IPY_MODEL_28d87f968c5b47029f9eefce6968e086"
          }
        },
        "73abfe6d896d4a6087f6670f11b39dd8": {
          "model_module": "@jupyter-widgets/controls",
          "model_name": "HTMLModel",
          "state": {
            "_view_name": "HTMLView",
            "style": "IPY_MODEL_1af812cc25b9479abea430f2e267d1d6",
            "_dom_classes": [],
            "description": "",
            "_model_name": "HTMLModel",
            "placeholder": "​",
            "_view_module": "@jupyter-widgets/controls",
            "_model_module_version": "1.5.0",
            "value": " 2299/2299 [04:35&lt;00:00,  8.35it/s]",
            "_view_count": null,
            "_view_module_version": "1.5.0",
            "description_tooltip": null,
            "_model_module": "@jupyter-widgets/controls",
            "layout": "IPY_MODEL_eb4e86e9c0ba4ff3afff989d79e84f11"
          }
        },
        "660d07bbe04d4086a7f8ad4ea4856e3b": {
          "model_module": "@jupyter-widgets/controls",
          "model_name": "ProgressStyleModel",
          "state": {
            "_view_name": "StyleView",
            "_model_name": "ProgressStyleModel",
            "description_width": "initial",
            "_view_module": "@jupyter-widgets/base",
            "_model_module_version": "1.5.0",
            "_view_count": null,
            "_view_module_version": "1.2.0",
            "bar_color": null,
            "_model_module": "@jupyter-widgets/controls"
          }
        },
        "28d87f968c5b47029f9eefce6968e086": {
          "model_module": "@jupyter-widgets/base",
          "model_name": "LayoutModel",
          "state": {
            "_view_name": "LayoutView",
            "grid_template_rows": null,
            "right": null,
            "justify_content": null,
            "_view_module": "@jupyter-widgets/base",
            "overflow": null,
            "_model_module_version": "1.2.0",
            "_view_count": null,
            "flex_flow": null,
            "width": null,
            "min_width": null,
            "border": null,
            "align_items": null,
            "bottom": null,
            "_model_module": "@jupyter-widgets/base",
            "top": null,
            "grid_column": null,
            "overflow_y": null,
            "overflow_x": null,
            "grid_auto_flow": null,
            "grid_area": null,
            "grid_template_columns": null,
            "flex": null,
            "_model_name": "LayoutModel",
            "justify_items": null,
            "grid_row": null,
            "max_height": null,
            "align_content": null,
            "visibility": null,
            "align_self": null,
            "height": null,
            "min_height": null,
            "padding": null,
            "grid_auto_rows": null,
            "grid_gap": null,
            "max_width": null,
            "order": null,
            "_view_module_version": "1.2.0",
            "grid_template_areas": null,
            "object_position": null,
            "object_fit": null,
            "grid_auto_columns": null,
            "margin": null,
            "display": null,
            "left": null
          }
        },
        "1af812cc25b9479abea430f2e267d1d6": {
          "model_module": "@jupyter-widgets/controls",
          "model_name": "DescriptionStyleModel",
          "state": {
            "_view_name": "StyleView",
            "_model_name": "DescriptionStyleModel",
            "description_width": "",
            "_view_module": "@jupyter-widgets/base",
            "_model_module_version": "1.5.0",
            "_view_count": null,
            "_view_module_version": "1.2.0",
            "_model_module": "@jupyter-widgets/controls"
          }
        },
        "eb4e86e9c0ba4ff3afff989d79e84f11": {
          "model_module": "@jupyter-widgets/base",
          "model_name": "LayoutModel",
          "state": {
            "_view_name": "LayoutView",
            "grid_template_rows": null,
            "right": null,
            "justify_content": null,
            "_view_module": "@jupyter-widgets/base",
            "overflow": null,
            "_model_module_version": "1.2.0",
            "_view_count": null,
            "flex_flow": null,
            "width": null,
            "min_width": null,
            "border": null,
            "align_items": null,
            "bottom": null,
            "_model_module": "@jupyter-widgets/base",
            "top": null,
            "grid_column": null,
            "overflow_y": null,
            "overflow_x": null,
            "grid_auto_flow": null,
            "grid_area": null,
            "grid_template_columns": null,
            "flex": null,
            "_model_name": "LayoutModel",
            "justify_items": null,
            "grid_row": null,
            "max_height": null,
            "align_content": null,
            "visibility": null,
            "align_self": null,
            "height": null,
            "min_height": null,
            "padding": null,
            "grid_auto_rows": null,
            "grid_gap": null,
            "max_width": null,
            "order": null,
            "_view_module_version": "1.2.0",
            "grid_template_areas": null,
            "object_position": null,
            "object_fit": null,
            "grid_auto_columns": null,
            "margin": null,
            "display": null,
            "left": null
          }
        },
        "be5bef9e7b274d74a6704ccebdc272ec": {
          "model_module": "@jupyter-widgets/controls",
          "model_name": "HBoxModel",
          "state": {
            "_view_name": "HBoxView",
            "_dom_classes": [],
            "_model_name": "HBoxModel",
            "_view_module": "@jupyter-widgets/controls",
            "_model_module_version": "1.5.0",
            "_view_count": null,
            "_view_module_version": "1.5.0",
            "box_style": "",
            "layout": "IPY_MODEL_5b7568134a264ee8b6c6c61d8910b743",
            "_model_module": "@jupyter-widgets/controls",
            "children": [
              "IPY_MODEL_8862f746a27e4796b782087e13af26b5",
              "IPY_MODEL_4bd7d3ee6fa94dbeb4be0e7fb86e4e1b"
            ]
          }
        },
        "5b7568134a264ee8b6c6c61d8910b743": {
          "model_module": "@jupyter-widgets/base",
          "model_name": "LayoutModel",
          "state": {
            "_view_name": "LayoutView",
            "grid_template_rows": null,
            "right": null,
            "justify_content": null,
            "_view_module": "@jupyter-widgets/base",
            "overflow": null,
            "_model_module_version": "1.2.0",
            "_view_count": null,
            "flex_flow": null,
            "width": null,
            "min_width": null,
            "border": null,
            "align_items": null,
            "bottom": null,
            "_model_module": "@jupyter-widgets/base",
            "top": null,
            "grid_column": null,
            "overflow_y": null,
            "overflow_x": null,
            "grid_auto_flow": null,
            "grid_area": null,
            "grid_template_columns": null,
            "flex": null,
            "_model_name": "LayoutModel",
            "justify_items": null,
            "grid_row": null,
            "max_height": null,
            "align_content": null,
            "visibility": null,
            "align_self": null,
            "height": null,
            "min_height": null,
            "padding": null,
            "grid_auto_rows": null,
            "grid_gap": null,
            "max_width": null,
            "order": null,
            "_view_module_version": "1.2.0",
            "grid_template_areas": null,
            "object_position": null,
            "object_fit": null,
            "grid_auto_columns": null,
            "margin": null,
            "display": null,
            "left": null
          }
        },
        "8862f746a27e4796b782087e13af26b5": {
          "model_module": "@jupyter-widgets/controls",
          "model_name": "FloatProgressModel",
          "state": {
            "_view_name": "ProgressView",
            "style": "IPY_MODEL_15c02676e9244c27ad30c68389f5c5b8",
            "_dom_classes": [],
            "description": "100%",
            "_model_name": "FloatProgressModel",
            "bar_style": "success",
            "max": 43,
            "_view_module": "@jupyter-widgets/controls",
            "_model_module_version": "1.5.0",
            "value": 43,
            "_view_count": null,
            "_view_module_version": "1.5.0",
            "orientation": "horizontal",
            "min": 0,
            "description_tooltip": null,
            "_model_module": "@jupyter-widgets/controls",
            "layout": "IPY_MODEL_a52f71dce76740b39e2d1ba35589d6d2"
          }
        },
        "4bd7d3ee6fa94dbeb4be0e7fb86e4e1b": {
          "model_module": "@jupyter-widgets/controls",
          "model_name": "HTMLModel",
          "state": {
            "_view_name": "HTMLView",
            "style": "IPY_MODEL_74e0b86895d14207b7246c1509705060",
            "_dom_classes": [],
            "description": "",
            "_model_name": "HTMLModel",
            "placeholder": "​",
            "_view_module": "@jupyter-widgets/controls",
            "_model_module_version": "1.5.0",
            "value": " 43/43 [2:24:20&lt;00:00, 201.40s/it]",
            "_view_count": null,
            "_view_module_version": "1.5.0",
            "description_tooltip": null,
            "_model_module": "@jupyter-widgets/controls",
            "layout": "IPY_MODEL_037acf21acb24aac8218962448ef802e"
          }
        },
        "15c02676e9244c27ad30c68389f5c5b8": {
          "model_module": "@jupyter-widgets/controls",
          "model_name": "ProgressStyleModel",
          "state": {
            "_view_name": "StyleView",
            "_model_name": "ProgressStyleModel",
            "description_width": "initial",
            "_view_module": "@jupyter-widgets/base",
            "_model_module_version": "1.5.0",
            "_view_count": null,
            "_view_module_version": "1.2.0",
            "bar_color": null,
            "_model_module": "@jupyter-widgets/controls"
          }
        },
        "a52f71dce76740b39e2d1ba35589d6d2": {
          "model_module": "@jupyter-widgets/base",
          "model_name": "LayoutModel",
          "state": {
            "_view_name": "LayoutView",
            "grid_template_rows": null,
            "right": null,
            "justify_content": null,
            "_view_module": "@jupyter-widgets/base",
            "overflow": null,
            "_model_module_version": "1.2.0",
            "_view_count": null,
            "flex_flow": null,
            "width": null,
            "min_width": null,
            "border": null,
            "align_items": null,
            "bottom": null,
            "_model_module": "@jupyter-widgets/base",
            "top": null,
            "grid_column": null,
            "overflow_y": null,
            "overflow_x": null,
            "grid_auto_flow": null,
            "grid_area": null,
            "grid_template_columns": null,
            "flex": null,
            "_model_name": "LayoutModel",
            "justify_items": null,
            "grid_row": null,
            "max_height": null,
            "align_content": null,
            "visibility": null,
            "align_self": null,
            "height": null,
            "min_height": null,
            "padding": null,
            "grid_auto_rows": null,
            "grid_gap": null,
            "max_width": null,
            "order": null,
            "_view_module_version": "1.2.0",
            "grid_template_areas": null,
            "object_position": null,
            "object_fit": null,
            "grid_auto_columns": null,
            "margin": null,
            "display": null,
            "left": null
          }
        },
        "74e0b86895d14207b7246c1509705060": {
          "model_module": "@jupyter-widgets/controls",
          "model_name": "DescriptionStyleModel",
          "state": {
            "_view_name": "StyleView",
            "_model_name": "DescriptionStyleModel",
            "description_width": "",
            "_view_module": "@jupyter-widgets/base",
            "_model_module_version": "1.5.0",
            "_view_count": null,
            "_view_module_version": "1.2.0",
            "_model_module": "@jupyter-widgets/controls"
          }
        },
        "037acf21acb24aac8218962448ef802e": {
          "model_module": "@jupyter-widgets/base",
          "model_name": "LayoutModel",
          "state": {
            "_view_name": "LayoutView",
            "grid_template_rows": null,
            "right": null,
            "justify_content": null,
            "_view_module": "@jupyter-widgets/base",
            "overflow": null,
            "_model_module_version": "1.2.0",
            "_view_count": null,
            "flex_flow": null,
            "width": null,
            "min_width": null,
            "border": null,
            "align_items": null,
            "bottom": null,
            "_model_module": "@jupyter-widgets/base",
            "top": null,
            "grid_column": null,
            "overflow_y": null,
            "overflow_x": null,
            "grid_auto_flow": null,
            "grid_area": null,
            "grid_template_columns": null,
            "flex": null,
            "_model_name": "LayoutModel",
            "justify_items": null,
            "grid_row": null,
            "max_height": null,
            "align_content": null,
            "visibility": null,
            "align_self": null,
            "height": null,
            "min_height": null,
            "padding": null,
            "grid_auto_rows": null,
            "grid_gap": null,
            "max_width": null,
            "order": null,
            "_view_module_version": "1.2.0",
            "grid_template_areas": null,
            "object_position": null,
            "object_fit": null,
            "grid_auto_columns": null,
            "margin": null,
            "display": null,
            "left": null
          }
        },
        "8db9ad96ffea40ea8b04c64bacd5093f": {
          "model_module": "@jupyter-widgets/controls",
          "model_name": "HBoxModel",
          "state": {
            "_view_name": "HBoxView",
            "_dom_classes": [],
            "_model_name": "HBoxModel",
            "_view_module": "@jupyter-widgets/controls",
            "_model_module_version": "1.5.0",
            "_view_count": null,
            "_view_module_version": "1.5.0",
            "box_style": "",
            "layout": "IPY_MODEL_ff0488c69f384d2f9fdac5731cfa1338",
            "_model_module": "@jupyter-widgets/controls",
            "children": [
              "IPY_MODEL_086676a8c29b41d2ba7c8db35afaf7dd",
              "IPY_MODEL_0d95ea0e27444e11b719e1387a5eba10"
            ]
          }
        },
        "ff0488c69f384d2f9fdac5731cfa1338": {
          "model_module": "@jupyter-widgets/base",
          "model_name": "LayoutModel",
          "state": {
            "_view_name": "LayoutView",
            "grid_template_rows": null,
            "right": null,
            "justify_content": null,
            "_view_module": "@jupyter-widgets/base",
            "overflow": null,
            "_model_module_version": "1.2.0",
            "_view_count": null,
            "flex_flow": null,
            "width": null,
            "min_width": null,
            "border": null,
            "align_items": null,
            "bottom": null,
            "_model_module": "@jupyter-widgets/base",
            "top": null,
            "grid_column": null,
            "overflow_y": null,
            "overflow_x": null,
            "grid_auto_flow": null,
            "grid_area": null,
            "grid_template_columns": null,
            "flex": null,
            "_model_name": "LayoutModel",
            "justify_items": null,
            "grid_row": null,
            "max_height": null,
            "align_content": null,
            "visibility": null,
            "align_self": null,
            "height": null,
            "min_height": null,
            "padding": null,
            "grid_auto_rows": null,
            "grid_gap": null,
            "max_width": null,
            "order": null,
            "_view_module_version": "1.2.0",
            "grid_template_areas": null,
            "object_position": null,
            "object_fit": null,
            "grid_auto_columns": null,
            "margin": null,
            "display": null,
            "left": null
          }
        },
        "086676a8c29b41d2ba7c8db35afaf7dd": {
          "model_module": "@jupyter-widgets/controls",
          "model_name": "FloatProgressModel",
          "state": {
            "_view_name": "ProgressView",
            "style": "IPY_MODEL_31ba2423a85e4f35a50b272fa75b20eb",
            "_dom_classes": [],
            "description": "100%",
            "_model_name": "FloatProgressModel",
            "bar_style": "success",
            "max": 1,
            "_view_module": "@jupyter-widgets/controls",
            "_model_module_version": "1.5.0",
            "value": 1,
            "_view_count": null,
            "_view_module_version": "1.5.0",
            "orientation": "horizontal",
            "min": 0,
            "description_tooltip": null,
            "_model_module": "@jupyter-widgets/controls",
            "layout": "IPY_MODEL_96b8af891175486086c346034383e619"
          }
        },
        "0d95ea0e27444e11b719e1387a5eba10": {
          "model_module": "@jupyter-widgets/controls",
          "model_name": "HTMLModel",
          "state": {
            "_view_name": "HTMLView",
            "style": "IPY_MODEL_398ef76978b94305b6140b3d65ec4877",
            "_dom_classes": [],
            "description": "",
            "_model_name": "HTMLModel",
            "placeholder": "​",
            "_view_module": "@jupyter-widgets/controls",
            "_model_module_version": "1.5.0",
            "value": " 1/1 [48:49&lt;00:00, 2929.91s/it]",
            "_view_count": null,
            "_view_module_version": "1.5.0",
            "description_tooltip": null,
            "_model_module": "@jupyter-widgets/controls",
            "layout": "IPY_MODEL_d57a9f490e884fb8aff7e725c68ad1ca"
          }
        },
        "31ba2423a85e4f35a50b272fa75b20eb": {
          "model_module": "@jupyter-widgets/controls",
          "model_name": "ProgressStyleModel",
          "state": {
            "_view_name": "StyleView",
            "_model_name": "ProgressStyleModel",
            "description_width": "initial",
            "_view_module": "@jupyter-widgets/base",
            "_model_module_version": "1.5.0",
            "_view_count": null,
            "_view_module_version": "1.2.0",
            "bar_color": null,
            "_model_module": "@jupyter-widgets/controls"
          }
        },
        "96b8af891175486086c346034383e619": {
          "model_module": "@jupyter-widgets/base",
          "model_name": "LayoutModel",
          "state": {
            "_view_name": "LayoutView",
            "grid_template_rows": null,
            "right": null,
            "justify_content": null,
            "_view_module": "@jupyter-widgets/base",
            "overflow": null,
            "_model_module_version": "1.2.0",
            "_view_count": null,
            "flex_flow": null,
            "width": null,
            "min_width": null,
            "border": null,
            "align_items": null,
            "bottom": null,
            "_model_module": "@jupyter-widgets/base",
            "top": null,
            "grid_column": null,
            "overflow_y": null,
            "overflow_x": null,
            "grid_auto_flow": null,
            "grid_area": null,
            "grid_template_columns": null,
            "flex": null,
            "_model_name": "LayoutModel",
            "justify_items": null,
            "grid_row": null,
            "max_height": null,
            "align_content": null,
            "visibility": null,
            "align_self": null,
            "height": null,
            "min_height": null,
            "padding": null,
            "grid_auto_rows": null,
            "grid_gap": null,
            "max_width": null,
            "order": null,
            "_view_module_version": "1.2.0",
            "grid_template_areas": null,
            "object_position": null,
            "object_fit": null,
            "grid_auto_columns": null,
            "margin": null,
            "display": null,
            "left": null
          }
        },
        "398ef76978b94305b6140b3d65ec4877": {
          "model_module": "@jupyter-widgets/controls",
          "model_name": "DescriptionStyleModel",
          "state": {
            "_view_name": "StyleView",
            "_model_name": "DescriptionStyleModel",
            "description_width": "",
            "_view_module": "@jupyter-widgets/base",
            "_model_module_version": "1.5.0",
            "_view_count": null,
            "_view_module_version": "1.2.0",
            "_model_module": "@jupyter-widgets/controls"
          }
        },
        "d57a9f490e884fb8aff7e725c68ad1ca": {
          "model_module": "@jupyter-widgets/base",
          "model_name": "LayoutModel",
          "state": {
            "_view_name": "LayoutView",
            "grid_template_rows": null,
            "right": null,
            "justify_content": null,
            "_view_module": "@jupyter-widgets/base",
            "overflow": null,
            "_model_module_version": "1.2.0",
            "_view_count": null,
            "flex_flow": null,
            "width": null,
            "min_width": null,
            "border": null,
            "align_items": null,
            "bottom": null,
            "_model_module": "@jupyter-widgets/base",
            "top": null,
            "grid_column": null,
            "overflow_y": null,
            "overflow_x": null,
            "grid_auto_flow": null,
            "grid_area": null,
            "grid_template_columns": null,
            "flex": null,
            "_model_name": "LayoutModel",
            "justify_items": null,
            "grid_row": null,
            "max_height": null,
            "align_content": null,
            "visibility": null,
            "align_self": null,
            "height": null,
            "min_height": null,
            "padding": null,
            "grid_auto_rows": null,
            "grid_gap": null,
            "max_width": null,
            "order": null,
            "_view_module_version": "1.2.0",
            "grid_template_areas": null,
            "object_position": null,
            "object_fit": null,
            "grid_auto_columns": null,
            "margin": null,
            "display": null,
            "left": null
          }
        },
        "2f17e45716e34275a5794ed02b023842": {
          "model_module": "@jupyter-widgets/controls",
          "model_name": "HBoxModel",
          "state": {
            "_view_name": "HBoxView",
            "_dom_classes": [],
            "_model_name": "HBoxModel",
            "_view_module": "@jupyter-widgets/controls",
            "_model_module_version": "1.5.0",
            "_view_count": null,
            "_view_module_version": "1.5.0",
            "box_style": "",
            "layout": "IPY_MODEL_5ee4b780557e4c86b8050284194ab018",
            "_model_module": "@jupyter-widgets/controls",
            "children": [
              "IPY_MODEL_ad06f1393d444217873c29a2c4ead855",
              "IPY_MODEL_f2265014fa3e4db091897b5249663a02"
            ]
          }
        },
        "5ee4b780557e4c86b8050284194ab018": {
          "model_module": "@jupyter-widgets/base",
          "model_name": "LayoutModel",
          "state": {
            "_view_name": "LayoutView",
            "grid_template_rows": null,
            "right": null,
            "justify_content": null,
            "_view_module": "@jupyter-widgets/base",
            "overflow": null,
            "_model_module_version": "1.2.0",
            "_view_count": null,
            "flex_flow": null,
            "width": null,
            "min_width": null,
            "border": null,
            "align_items": null,
            "bottom": null,
            "_model_module": "@jupyter-widgets/base",
            "top": null,
            "grid_column": null,
            "overflow_y": null,
            "overflow_x": null,
            "grid_auto_flow": null,
            "grid_area": null,
            "grid_template_columns": null,
            "flex": null,
            "_model_name": "LayoutModel",
            "justify_items": null,
            "grid_row": null,
            "max_height": null,
            "align_content": null,
            "visibility": null,
            "align_self": null,
            "height": null,
            "min_height": null,
            "padding": null,
            "grid_auto_rows": null,
            "grid_gap": null,
            "max_width": null,
            "order": null,
            "_view_module_version": "1.2.0",
            "grid_template_areas": null,
            "object_position": null,
            "object_fit": null,
            "grid_auto_columns": null,
            "margin": null,
            "display": null,
            "left": null
          }
        },
        "ad06f1393d444217873c29a2c4ead855": {
          "model_module": "@jupyter-widgets/controls",
          "model_name": "FloatProgressModel",
          "state": {
            "_view_name": "ProgressView",
            "style": "IPY_MODEL_cacde242af044602a5869fc1b70f759a",
            "_dom_classes": [],
            "description": "100%",
            "_model_name": "FloatProgressModel",
            "bar_style": "success",
            "max": 2299,
            "_view_module": "@jupyter-widgets/controls",
            "_model_module_version": "1.5.0",
            "value": 2299,
            "_view_count": null,
            "_view_module_version": "1.5.0",
            "orientation": "horizontal",
            "min": 0,
            "description_tooltip": null,
            "_model_module": "@jupyter-widgets/controls",
            "layout": "IPY_MODEL_34805b5ee32045b3ad9cadd6a30254e6"
          }
        },
        "f2265014fa3e4db091897b5249663a02": {
          "model_module": "@jupyter-widgets/controls",
          "model_name": "HTMLModel",
          "state": {
            "_view_name": "HTMLView",
            "style": "IPY_MODEL_9e699c2e77aa4ed79aaa90862140282e",
            "_dom_classes": [],
            "description": "",
            "_model_name": "HTMLModel",
            "placeholder": "​",
            "_view_module": "@jupyter-widgets/controls",
            "_model_module_version": "1.5.0",
            "value": " 2299/2299 [31:31&lt;00:00,  1.22it/s]",
            "_view_count": null,
            "_view_module_version": "1.5.0",
            "description_tooltip": null,
            "_model_module": "@jupyter-widgets/controls",
            "layout": "IPY_MODEL_63c6230169a64d5196336643cef471c6"
          }
        },
        "cacde242af044602a5869fc1b70f759a": {
          "model_module": "@jupyter-widgets/controls",
          "model_name": "ProgressStyleModel",
          "state": {
            "_view_name": "StyleView",
            "_model_name": "ProgressStyleModel",
            "description_width": "initial",
            "_view_module": "@jupyter-widgets/base",
            "_model_module_version": "1.5.0",
            "_view_count": null,
            "_view_module_version": "1.2.0",
            "bar_color": null,
            "_model_module": "@jupyter-widgets/controls"
          }
        },
        "34805b5ee32045b3ad9cadd6a30254e6": {
          "model_module": "@jupyter-widgets/base",
          "model_name": "LayoutModel",
          "state": {
            "_view_name": "LayoutView",
            "grid_template_rows": null,
            "right": null,
            "justify_content": null,
            "_view_module": "@jupyter-widgets/base",
            "overflow": null,
            "_model_module_version": "1.2.0",
            "_view_count": null,
            "flex_flow": null,
            "width": null,
            "min_width": null,
            "border": null,
            "align_items": null,
            "bottom": null,
            "_model_module": "@jupyter-widgets/base",
            "top": null,
            "grid_column": null,
            "overflow_y": null,
            "overflow_x": null,
            "grid_auto_flow": null,
            "grid_area": null,
            "grid_template_columns": null,
            "flex": null,
            "_model_name": "LayoutModel",
            "justify_items": null,
            "grid_row": null,
            "max_height": null,
            "align_content": null,
            "visibility": null,
            "align_self": null,
            "height": null,
            "min_height": null,
            "padding": null,
            "grid_auto_rows": null,
            "grid_gap": null,
            "max_width": null,
            "order": null,
            "_view_module_version": "1.2.0",
            "grid_template_areas": null,
            "object_position": null,
            "object_fit": null,
            "grid_auto_columns": null,
            "margin": null,
            "display": null,
            "left": null
          }
        },
        "9e699c2e77aa4ed79aaa90862140282e": {
          "model_module": "@jupyter-widgets/controls",
          "model_name": "DescriptionStyleModel",
          "state": {
            "_view_name": "StyleView",
            "_model_name": "DescriptionStyleModel",
            "description_width": "",
            "_view_module": "@jupyter-widgets/base",
            "_model_module_version": "1.5.0",
            "_view_count": null,
            "_view_module_version": "1.2.0",
            "_model_module": "@jupyter-widgets/controls"
          }
        },
        "63c6230169a64d5196336643cef471c6": {
          "model_module": "@jupyter-widgets/base",
          "model_name": "LayoutModel",
          "state": {
            "_view_name": "LayoutView",
            "grid_template_rows": null,
            "right": null,
            "justify_content": null,
            "_view_module": "@jupyter-widgets/base",
            "overflow": null,
            "_model_module_version": "1.2.0",
            "_view_count": null,
            "flex_flow": null,
            "width": null,
            "min_width": null,
            "border": null,
            "align_items": null,
            "bottom": null,
            "_model_module": "@jupyter-widgets/base",
            "top": null,
            "grid_column": null,
            "overflow_y": null,
            "overflow_x": null,
            "grid_auto_flow": null,
            "grid_area": null,
            "grid_template_columns": null,
            "flex": null,
            "_model_name": "LayoutModel",
            "justify_items": null,
            "grid_row": null,
            "max_height": null,
            "align_content": null,
            "visibility": null,
            "align_self": null,
            "height": null,
            "min_height": null,
            "padding": null,
            "grid_auto_rows": null,
            "grid_gap": null,
            "max_width": null,
            "order": null,
            "_view_module_version": "1.2.0",
            "grid_template_areas": null,
            "object_position": null,
            "object_fit": null,
            "grid_auto_columns": null,
            "margin": null,
            "display": null,
            "left": null
          }
        }
      }
    }
  },
  "cells": [
    {
      "cell_type": "markdown",
      "metadata": {
        "id": "OfT-oYNn7jmT"
      },
      "source": [
        "### __Задача 1__:\n",
        "\n",
        "Реализуйте 2 функции препроцессинга:\n",
        "\n",
        "- Удалить именованные сущности с помощью natasha (https://github.com/natasha/yargy)\n",
        "- Удалить именованные сущности с помощью deepmipt (https://github.com/deepmipt/ner)\n"
      ]
    },
    {
      "cell_type": "markdown",
      "metadata": {
        "id": "lV3L5E2F8cdF"
      },
      "source": [
        "# NATASHA"
      ]
    },
    {
      "cell_type": "code",
      "metadata": {
        "id": "mTkxZTMJ7mfI"
      },
      "source": [
        "!pip install --quiet natasha"
      ],
      "execution_count": null,
      "outputs": []
    },
    {
      "cell_type": "code",
      "metadata": {
        "id": "EXOFkZS37Vku"
      },
      "source": [
        "import natasha\n",
        "import pandas as pd\n",
        "\n",
        "from natasha import (\n",
        "    Segmenter,\n",
        "    MorphVocab,\n",
        "    \n",
        "    NewsEmbedding,\n",
        "    NewsMorphTagger,\n",
        "    NewsNERTagger,\n",
        "    \n",
        "    PER,\n",
        "    DatesExtractor,\n",
        "    NamesExtractor,\n",
        "    MoneyExtractor,\n",
        "    AddrExtractor,\n",
        "\n",
        "    Doc\n",
        ")\n",
        "\n",
        "answers = pd.read_excel('/content/drive/My Drive/PROGA/infosearch/hw2/answers_base.xlsx')\n",
        "queries = pd.read_excel(\"/content/drive/My Drive/PROGA/infosearch/hw2/queries_base.xlsx\").drop(columns = ['Unnamed: 3', 'Unnamed: 4'])"
      ],
      "execution_count": null,
      "outputs": []
    },
    {
      "cell_type": "code",
      "metadata": {
        "id": "HYVnU3cb7Xqj",
        "outputId": "3002c441-8624-4074-8902-000f381f3d70",
        "colab": {
          "base_uri": "https://localhost:8080/"
        }
      },
      "source": [
        "answers.head(3)"
      ],
      "execution_count": null,
      "outputs": [
        {
          "output_type": "execute_result",
          "data": {
            "text/html": [
              "<div>\n",
              "<style scoped>\n",
              "    .dataframe tbody tr th:only-of-type {\n",
              "        vertical-align: middle;\n",
              "    }\n",
              "\n",
              "    .dataframe tbody tr th {\n",
              "        vertical-align: top;\n",
              "    }\n",
              "\n",
              "    .dataframe thead th {\n",
              "        text-align: right;\n",
              "    }\n",
              "</style>\n",
              "<table border=\"1\" class=\"dataframe\">\n",
              "  <thead>\n",
              "    <tr style=\"text-align: right;\">\n",
              "      <th></th>\n",
              "      <th>Номер связки</th>\n",
              "      <th>Текст вопросов</th>\n",
              "      <th>Текст ответа</th>\n",
              "      <th>Тематика</th>\n",
              "    </tr>\n",
              "  </thead>\n",
              "  <tbody>\n",
              "    <tr>\n",
              "      <th>0</th>\n",
              "      <td>57</td>\n",
              "      <td>У ребенка в школе продлили каникулы. Могу ли я...</td>\n",
              "      <td>Листок временной нетрудоспособности (больничны...</td>\n",
              "      <td>БОЛЬНИЧНЫЙ ЛИСТ</td>\n",
              "    </tr>\n",
              "    <tr>\n",
              "      <th>1</th>\n",
              "      <td>78</td>\n",
              "      <td>Где сделать вакцинацию от коронавируса?\\nСущес...</td>\n",
              "      <td>Коронавирусы - это целое семейство вирусов, ко...</td>\n",
              "      <td>ВАКЦИНАЦИЯ</td>\n",
              "    </tr>\n",
              "    <tr>\n",
              "      <th>2</th>\n",
              "      <td>326</td>\n",
              "      <td>Сколько стоит сделать вакцину от гриппа?\\nМожн...</td>\n",
              "      <td>Бесплатно пройти вакцинацию можно в Вашей меди...</td>\n",
              "      <td>ВАКЦИНАЦИЯ</td>\n",
              "    </tr>\n",
              "  </tbody>\n",
              "</table>\n",
              "</div>"
            ],
            "text/plain": [
              "   Номер связки  ...         Тематика\n",
              "0            57  ...  БОЛЬНИЧНЫЙ ЛИСТ\n",
              "1            78  ...       ВАКЦИНАЦИЯ\n",
              "2           326  ...       ВАКЦИНАЦИЯ\n",
              "\n",
              "[3 rows x 4 columns]"
            ]
          },
          "metadata": {
            "tags": []
          },
          "execution_count": 7
        }
      ]
    },
    {
      "cell_type": "code",
      "metadata": {
        "id": "dcr2Q26O7wIS",
        "outputId": "61d73721-a6b9-403c-9320-39582f0733c2",
        "colab": {
          "base_uri": "https://localhost:8080/"
        }
      },
      "source": [
        "queries.head(3)"
      ],
      "execution_count": null,
      "outputs": [
        {
          "output_type": "execute_result",
          "data": {
            "text/html": [
              "<div>\n",
              "<style scoped>\n",
              "    .dataframe tbody tr th:only-of-type {\n",
              "        vertical-align: middle;\n",
              "    }\n",
              "\n",
              "    .dataframe tbody tr th {\n",
              "        vertical-align: top;\n",
              "    }\n",
              "\n",
              "    .dataframe thead th {\n",
              "        text-align: right;\n",
              "    }\n",
              "</style>\n",
              "<table border=\"1\" class=\"dataframe\">\n",
              "  <thead>\n",
              "    <tr style=\"text-align: right;\">\n",
              "      <th></th>\n",
              "      <th>Текст вопроса</th>\n",
              "      <th>Номер связки\\n</th>\n",
              "      <th>Тематика</th>\n",
              "    </tr>\n",
              "  </thead>\n",
              "  <tbody>\n",
              "    <tr>\n",
              "      <th>0</th>\n",
              "      <td>с уважением Вероника Игоревна  Ильич\\n\\nПосле ...</td>\n",
              "      <td>308.0</td>\n",
              "      <td>ЗАКРЫТИЕ ГРАНИЦ, ОТКРЫТИЕ ГРАНИЦ РОССИИ И АВИА...</td>\n",
              "    </tr>\n",
              "    <tr>\n",
              "      <th>1</th>\n",
              "      <td>Здравствуйте! Проинформируйте, пожалуйста, нуж...</td>\n",
              "      <td>324.0</td>\n",
              "      <td>ОРГАНИЗАЦИИ ОТДЫХА ДЕТЕЙ И ИХ ЗДОРОВЛЕНИЯ</td>\n",
              "    </tr>\n",
              "    <tr>\n",
              "      <th>2</th>\n",
              "      <td>--\\nДобрый день!\\n   Меня, Сидельникова Андрея...</td>\n",
              "      <td>57.0</td>\n",
              "      <td>БОЛЬНИЧНЫЙ ЛИСТ</td>\n",
              "    </tr>\n",
              "  </tbody>\n",
              "</table>\n",
              "</div>"
            ],
            "text/plain": [
              "                                       Текст вопроса  ...                                          Тематика \n",
              "0  с уважением Вероника Игоревна  Ильич\\n\\nПосле ...  ...  ЗАКРЫТИЕ ГРАНИЦ, ОТКРЫТИЕ ГРАНИЦ РОССИИ И АВИА...\n",
              "1  Здравствуйте! Проинформируйте, пожалуйста, нуж...  ...          ОРГАНИЗАЦИИ ОТДЫХА ДЕТЕЙ И ИХ ЗДОРОВЛЕНИЯ\n",
              "2  --\\nДобрый день!\\n   Меня, Сидельникова Андрея...  ...                                    БОЛЬНИЧНЫЙ ЛИСТ\n",
              "\n",
              "[3 rows x 3 columns]"
            ]
          },
          "metadata": {
            "tags": []
          },
          "execution_count": 8
        }
      ]
    },
    {
      "cell_type": "code",
      "metadata": {
        "id": "W1ATfMPo760i"
      },
      "source": [
        "morph_vocab = MorphVocab()\n",
        "segmenter = Segmenter()\n",
        "emb = NewsEmbedding()\n",
        "morph_tagger = NewsMorphTagger(emb)\n",
        "ner_tagger = NewsNERTagger(emb)\n",
        "dates_extractor = DatesExtractor(morph_vocab)\n",
        "names_extractir = NamesExtractor(morph_vocab)\n",
        "money_extractor = MoneyExtractor(morph_vocab)\n",
        "addr_extractor = AddrExtractor(morph_vocab)\n",
        "\n",
        "# не знаю, стоит ли делать dates_extractor, потому что , во-первых, это есть в задании 3, \n",
        "# а в-вторых, наташа выделяет только даты, если это убрать, то останутся слов месяц и год, например:\n",
        "# После августа  года к нам, в Москву планируют приехать гости...\n",
        "\n",
        "# a AddrExtractor выделяет города, а вот улицы нет (("
      ],
      "execution_count": null,
      "outputs": []
    },
    {
      "cell_type": "code",
      "metadata": {
        "id": "oFlX51Hm793y",
        "outputId": "99d9cd65-b4ab-4acb-80d1-ca0a896aa0c8",
        "colab": {
          "base_uri": "https://localhost:8080/",
          "referenced_widgets": [
            "047247fb99f0456888227e1ff8655218",
            "93866341a4354867b87df79c492f88fd",
            "6bc7a411a84e469c83f9a801eeb1d29c",
            "73abfe6d896d4a6087f6670f11b39dd8",
            "660d07bbe04d4086a7f8ad4ea4856e3b",
            "28d87f968c5b47029f9eefce6968e086",
            "1af812cc25b9479abea430f2e267d1d6",
            "eb4e86e9c0ba4ff3afff989d79e84f11"
          ]
        }
      },
      "source": [
        "from tqdm.auto import tqdm\n",
        "\n",
        "def preprocess_with_natasha(text: str) -> str:\n",
        "    \n",
        "    doc = Doc(text)\n",
        "    doc.segment(segmenter)\n",
        "    doc.tag_ner(ner_tagger)\n",
        "    for x in doc.spans:\n",
        "        text = text.replace(x.text,'')\n",
        "    \n",
        "    return text\n",
        "\n",
        "\n",
        "texts_no_ner = []\n",
        "texts = list(queries['Текст вопроса'])\n",
        "for text in tqdm(texts):\n",
        "    if type(text) == str:\n",
        "        texts_no_ner.append(preprocess_with_natasha(text))\n",
        "    else:\n",
        "        texts_no_ner.append(text)"
      ],
      "execution_count": null,
      "outputs": [
        {
          "output_type": "display_data",
          "data": {
            "application/vnd.jupyter.widget-view+json": {
              "model_id": "047247fb99f0456888227e1ff8655218",
              "version_minor": 0,
              "version_major": 2
            },
            "text/plain": [
              "HBox(children=(FloatProgress(value=0.0, max=2299.0), HTML(value='')))"
            ]
          },
          "metadata": {
            "tags": []
          }
        },
        {
          "output_type": "stream",
          "text": [
            "\n"
          ],
          "name": "stdout"
        }
      ]
    },
    {
      "cell_type": "code",
      "metadata": {
        "id": "cboKpG_I8Ek2",
        "outputId": "d69d6ff6-a870-4d73-9220-e9abd4e2f5a8",
        "colab": {
          "base_uri": "https://localhost:8080/"
        }
      },
      "source": [
        "queries['Текст вопроса без NER NATASHA'] = texts_no_ner\n",
        "queries.head(3)"
      ],
      "execution_count": null,
      "outputs": [
        {
          "output_type": "execute_result",
          "data": {
            "text/html": [
              "<div>\n",
              "<style scoped>\n",
              "    .dataframe tbody tr th:only-of-type {\n",
              "        vertical-align: middle;\n",
              "    }\n",
              "\n",
              "    .dataframe tbody tr th {\n",
              "        vertical-align: top;\n",
              "    }\n",
              "\n",
              "    .dataframe thead th {\n",
              "        text-align: right;\n",
              "    }\n",
              "</style>\n",
              "<table border=\"1\" class=\"dataframe\">\n",
              "  <thead>\n",
              "    <tr style=\"text-align: right;\">\n",
              "      <th></th>\n",
              "      <th>Текст вопроса</th>\n",
              "      <th>Номер связки\\n</th>\n",
              "      <th>Тематика</th>\n",
              "      <th>Текст вопроса без NER NATASHA</th>\n",
              "    </tr>\n",
              "  </thead>\n",
              "  <tbody>\n",
              "    <tr>\n",
              "      <th>0</th>\n",
              "      <td>с уважением Вероника Игоревна  Ильич\\n\\nПосле ...</td>\n",
              "      <td>308.0</td>\n",
              "      <td>ЗАКРЫТИЕ ГРАНИЦ, ОТКРЫТИЕ ГРАНИЦ РОССИИ И АВИА...</td>\n",
              "      <td>с уважением \\n\\nПосле 15 августа 2020 года к н...</td>\n",
              "    </tr>\n",
              "    <tr>\n",
              "      <th>1</th>\n",
              "      <td>Здравствуйте! Проинформируйте, пожалуйста, нуж...</td>\n",
              "      <td>324.0</td>\n",
              "      <td>ОРГАНИЗАЦИИ ОТДЫХА ДЕТЕЙ И ИХ ЗДОРОВЛЕНИЯ</td>\n",
              "      <td>Здравствуйте! Проинформируйте, пожалуйста, нуж...</td>\n",
              "    </tr>\n",
              "    <tr>\n",
              "      <th>2</th>\n",
              "      <td>--\\nДобрый день!\\n   Меня, Сидельникова Андрея...</td>\n",
              "      <td>57.0</td>\n",
              "      <td>БОЛЬНИЧНЫЙ ЛИСТ</td>\n",
              "      <td>--\\nДобрый день!\\n   Меня,   30.07.1989г.р., п...</td>\n",
              "    </tr>\n",
              "  </tbody>\n",
              "</table>\n",
              "</div>"
            ],
            "text/plain": [
              "                                       Текст вопроса  ...                      Текст вопроса без NER NATASHA\n",
              "0  с уважением Вероника Игоревна  Ильич\\n\\nПосле ...  ...  с уважением \\n\\nПосле 15 августа 2020 года к н...\n",
              "1  Здравствуйте! Проинформируйте, пожалуйста, нуж...  ...  Здравствуйте! Проинформируйте, пожалуйста, нуж...\n",
              "2  --\\nДобрый день!\\n   Меня, Сидельникова Андрея...  ...  --\\nДобрый день!\\n   Меня,   30.07.1989г.р., п...\n",
              "\n",
              "[3 rows x 4 columns]"
            ]
          },
          "metadata": {
            "tags": []
          },
          "execution_count": 11
        }
      ]
    },
    {
      "cell_type": "code",
      "metadata": {
        "id": "ohwBnDjm8QTr",
        "outputId": "61f57df5-f5cb-43fb-becb-9a16aeff6896",
        "colab": {
          "base_uri": "https://localhost:8080/",
          "referenced_widgets": [
            "be5bef9e7b274d74a6704ccebdc272ec",
            "5b7568134a264ee8b6c6c61d8910b743",
            "8862f746a27e4796b782087e13af26b5",
            "4bd7d3ee6fa94dbeb4be0e7fb86e4e1b",
            "15c02676e9244c27ad30c68389f5c5b8",
            "a52f71dce76740b39e2d1ba35589d6d2",
            "74e0b86895d14207b7246c1509705060",
            "037acf21acb24aac8218962448ef802e"
          ]
        }
      },
      "source": [
        "texts_no_ner = []\n",
        "texts = list(answers['Текст вопросов'])\n",
        "for text in tqdm(texts):\n",
        "    if type(text) == str:\n",
        "        texts_no_ner.append(preprocess_with_natasha(text))\n",
        "    else:\n",
        "        texts_no_ner.append(text)\n",
        "        \n",
        "answers['Текст вопросов без NER NATASHA'] = texts_no_ner\n",
        "answers.head(3)        "
      ],
      "execution_count": null,
      "outputs": [
        {
          "output_type": "display_data",
          "data": {
            "application/vnd.jupyter.widget-view+json": {
              "model_id": "be5bef9e7b274d74a6704ccebdc272ec",
              "version_minor": 0,
              "version_major": 2
            },
            "text/plain": [
              "HBox(children=(FloatProgress(value=0.0, max=43.0), HTML(value='')))"
            ]
          },
          "metadata": {
            "tags": []
          }
        },
        {
          "output_type": "stream",
          "text": [
            "\n"
          ],
          "name": "stdout"
        },
        {
          "output_type": "execute_result",
          "data": {
            "text/html": [
              "<div>\n",
              "<style scoped>\n",
              "    .dataframe tbody tr th:only-of-type {\n",
              "        vertical-align: middle;\n",
              "    }\n",
              "\n",
              "    .dataframe tbody tr th {\n",
              "        vertical-align: top;\n",
              "    }\n",
              "\n",
              "    .dataframe thead th {\n",
              "        text-align: right;\n",
              "    }\n",
              "</style>\n",
              "<table border=\"1\" class=\"dataframe\">\n",
              "  <thead>\n",
              "    <tr style=\"text-align: right;\">\n",
              "      <th></th>\n",
              "      <th>Номер связки</th>\n",
              "      <th>Текст вопросов</th>\n",
              "      <th>Текст ответа</th>\n",
              "      <th>Тематика</th>\n",
              "      <th>Текст вопросов без NER DEEPMINT</th>\n",
              "      <th>Текст вопроса без NER DEEPMINT</th>\n",
              "      <th>Текст вопросов без NER NATASHA</th>\n",
              "    </tr>\n",
              "  </thead>\n",
              "  <tbody>\n",
              "    <tr>\n",
              "      <th>0</th>\n",
              "      <td>57</td>\n",
              "      <td>У ребенка в школе продлили каникулы. Могу ли я...</td>\n",
              "      <td>Листок временной нетрудоспособности (больничны...</td>\n",
              "      <td>БОЛЬНИЧНЫЙ ЛИСТ</td>\n",
              "      <td>У ребенка в школе продлили каникулы. Могу ли я...</td>\n",
              "      <td>У ребенка в школе продлили каникулы. Могу ли я...</td>\n",
              "      <td>У ребенка в школе продлили каникулы. Могу ли я...</td>\n",
              "    </tr>\n",
              "    <tr>\n",
              "      <th>1</th>\n",
              "      <td>78</td>\n",
              "      <td>Где сделать вакцинацию от коронавируса?\\nСущес...</td>\n",
              "      <td>Коронавирусы - это целое семейство вирусов, ко...</td>\n",
              "      <td>ВАКЦИНАЦИЯ</td>\n",
              "      <td>Где сделать вакцинацию от коронавируса?\\nСущес...</td>\n",
              "      <td>Где сделать вакцинацию от коронавируса?\\nСущес...</td>\n",
              "      <td>Где сделать вакцинацию от коронавируса?\\nСущес...</td>\n",
              "    </tr>\n",
              "    <tr>\n",
              "      <th>2</th>\n",
              "      <td>326</td>\n",
              "      <td>Сколько стоит сделать вакцину от гриппа?\\nМожн...</td>\n",
              "      <td>Бесплатно пройти вакцинацию можно в Вашей меди...</td>\n",
              "      <td>ВАКЦИНАЦИЯ</td>\n",
              "      <td>Сколько стоит сделать вакцину от гриппа?\\nМожн...</td>\n",
              "      <td>Сколько стоит сделать вакцину от гриппа?\\nМожн...</td>\n",
              "      <td>Сколько стоит сделать вакцину от гриппа?\\nМожн...</td>\n",
              "    </tr>\n",
              "  </tbody>\n",
              "</table>\n",
              "</div>"
            ],
            "text/plain": [
              "   Номер связки  ...                     Текст вопросов без NER NATASHA\n",
              "0            57  ...  У ребенка в школе продлили каникулы. Могу ли я...\n",
              "1            78  ...  Где сделать вакцинацию от коронавируса?\\nСущес...\n",
              "2           326  ...  Сколько стоит сделать вакцину от гриппа?\\nМожн...\n",
              "\n",
              "[3 rows x 7 columns]"
            ]
          },
          "metadata": {
            "tags": []
          },
          "execution_count": 80
        }
      ]
    },
    {
      "cell_type": "markdown",
      "metadata": {
        "id": "ETMguwY38izk"
      },
      "source": [
        "# DEEPMINT"
      ]
    },
    {
      "cell_type": "code",
      "metadata": {
        "id": "HzRe4UJi8m-y"
      },
      "source": [
        "!pip install deeppavlov\n",
        "!python -m deeppavlov install ner_conll2003_bert\n",
        "\n",
        "from deeppavlov import configs, build_model"
      ],
      "execution_count": null,
      "outputs": []
    },
    {
      "cell_type": "code",
      "metadata": {
        "id": "lF44Juv6-qKA"
      },
      "source": [
        "model = build_model(configs.ner.ner_rus_bert, download=True)"
      ],
      "execution_count": null,
      "outputs": []
    },
    {
      "cell_type": "code",
      "metadata": {
        "id": "0WqWwkVDLFIj",
        "outputId": "f6b4cf7c-51b3-46ab-e7fb-a5d8da616f2a",
        "colab": {
          "base_uri": "https://localhost:8080/",
          "referenced_widgets": [
            "8db9ad96ffea40ea8b04c64bacd5093f",
            "ff0488c69f384d2f9fdac5731cfa1338",
            "086676a8c29b41d2ba7c8db35afaf7dd",
            "0d95ea0e27444e11b719e1387a5eba10",
            "31ba2423a85e4f35a50b272fa75b20eb",
            "96b8af891175486086c346034383e619",
            "398ef76978b94305b6140b3d65ec4877",
            "d57a9f490e884fb8aff7e725c68ad1ca"
          ]
        }
      },
      "source": [
        "for text in tqdm(texts[:1]):\n",
        "  result = model([text])\n",
        "  words = result[0][0]\n",
        "  tags = result[1][0]\n",
        "  for i, el in enumerate(tags):\n",
        "    if el !=  'O':\n",
        "      text = text.replace(words[i], '')\n"
      ],
      "execution_count": null,
      "outputs": [
        {
          "output_type": "display_data",
          "data": {
            "application/vnd.jupyter.widget-view+json": {
              "model_id": "8db9ad96ffea40ea8b04c64bacd5093f",
              "version_minor": 0,
              "version_major": 2
            },
            "text/plain": [
              "HBox(children=(FloatProgress(value=0.0, max=1.0), HTML(value='')))"
            ]
          },
          "metadata": {
            "tags": []
          }
        },
        {
          "output_type": "stream",
          "text": [
            "\n"
          ],
          "name": "stdout"
        },
        {
          "output_type": "execute_result",
          "data": {
            "application/vnd.google.colaboratory.intrinsic+json": {
              "type": "string"
            },
            "text/plain": [
              "'с уважением   \\n\\nПосле 15 августа 2020 года к нам, в  планируют приехать гости из .\\nКакой на сегодняшний день режим по  распространяется на иностранцев, прибывающих в ?\\n\\nС уважением,\\n \\n'"
            ]
          },
          "metadata": {
            "tags": []
          },
          "execution_count": 47
        }
      ]
    },
    {
      "cell_type": "code",
      "metadata": {
        "id": "jZaS4KU0ElzX",
        "outputId": "1f36d613-255b-4138-8e82-2c8d5caa9fd4",
        "colab": {
          "base_uri": "https://localhost:8080/",
          "referenced_widgets": [
            "2f17e45716e34275a5794ed02b023842",
            "5ee4b780557e4c86b8050284194ab018",
            "ad06f1393d444217873c29a2c4ead855",
            "f2265014fa3e4db091897b5249663a02",
            "cacde242af044602a5869fc1b70f759a",
            "34805b5ee32045b3ad9cadd6a30254e6",
            "9e699c2e77aa4ed79aaa90862140282e",
            "63c6230169a64d5196336643cef471c6"
          ]
        }
      },
      "source": [
        "# bert падает, если токенов > 512, поэтому будем делить на предложения\n",
        "from razdel import sentenize\n",
        "\n",
        "def preprocess_with_deepmint(text: str) -> str:\n",
        "  substrings =  sentenize(text)\n",
        "  sentences = [_.text for _ in substrings]\n",
        "  for sent in sentences:\n",
        "    result = model([sent])\n",
        "    words = result[0][0]\n",
        "    tags = result[1][0]\n",
        "    for i, el in enumerate(tags):\n",
        "      if el !=  'O':\n",
        "        text = text.replace(words[i], '')\n",
        "\n",
        "  return text\n",
        "\n",
        "\n",
        "texts_no_ner = []\n",
        "texts = list(queries['Текст вопроса'])\n",
        "for text in tqdm(texts):\n",
        "    if type(text) == str:\n",
        "        texts_no_ner.append(preprocess_with_deepmint(text))\n",
        "    else:\n",
        "        texts_no_ner.append(text)\n",
        "\n",
        "queries['Текст вопроса без NER DEEPMINT'] = texts_no_ner\n",
        "queries.head(3)"
      ],
      "execution_count": null,
      "outputs": [
        {
          "output_type": "display_data",
          "data": {
            "application/vnd.jupyter.widget-view+json": {
              "model_id": "2f17e45716e34275a5794ed02b023842",
              "version_minor": 0,
              "version_major": 2
            },
            "text/plain": [
              "HBox(children=(FloatProgress(value=0.0, max=2299.0), HTML(value='')))"
            ]
          },
          "metadata": {
            "tags": []
          }
        },
        {
          "output_type": "stream",
          "text": [
            "\n"
          ],
          "name": "stdout"
        },
        {
          "output_type": "execute_result",
          "data": {
            "text/html": [
              "<div>\n",
              "<style scoped>\n",
              "    .dataframe tbody tr th:only-of-type {\n",
              "        vertical-align: middle;\n",
              "    }\n",
              "\n",
              "    .dataframe tbody tr th {\n",
              "        vertical-align: top;\n",
              "    }\n",
              "\n",
              "    .dataframe thead th {\n",
              "        text-align: right;\n",
              "    }\n",
              "</style>\n",
              "<table border=\"1\" class=\"dataframe\">\n",
              "  <thead>\n",
              "    <tr style=\"text-align: right;\">\n",
              "      <th></th>\n",
              "      <th>Текст вопроса</th>\n",
              "      <th>Номер связки\\n</th>\n",
              "      <th>Тематика</th>\n",
              "      <th>Текст вопроса без NER NATASHA</th>\n",
              "      <th>Текст вопроса без NER DEEPMINT</th>\n",
              "    </tr>\n",
              "  </thead>\n",
              "  <tbody>\n",
              "    <tr>\n",
              "      <th>0</th>\n",
              "      <td>с уважением Вероника Игоревна  Ильич\\n\\nПосле ...</td>\n",
              "      <td>308.0</td>\n",
              "      <td>ЗАКРЫТИЕ ГРАНИЦ, ОТКРЫТИЕ ГРАНИЦ РОССИИ И АВИА...</td>\n",
              "      <td>с уважением \\n\\nПосле 15 августа 2020 года к н...</td>\n",
              "      <td>с уважением    \\n\\nПосле 15 августа 2020 года ...</td>\n",
              "    </tr>\n",
              "    <tr>\n",
              "      <th>1</th>\n",
              "      <td>Здравствуйте! Проинформируйте, пожалуйста, нуж...</td>\n",
              "      <td>324.0</td>\n",
              "      <td>ОРГАНИЗАЦИИ ОТДЫХА ДЕТЕЙ И ИХ ЗДОРОВЛЕНИЯ</td>\n",
              "      <td>Здравствуйте! Проинформируйте, пожалуйста, нуж...</td>\n",
              "      <td>Здравствуйте! Проинформируйте, пожалуйста, нуж...</td>\n",
              "    </tr>\n",
              "    <tr>\n",
              "      <th>2</th>\n",
              "      <td>--\\nДобрый день!\\n   Меня, Сидельникова Андрея...</td>\n",
              "      <td>57.0</td>\n",
              "      <td>БОЛЬНИЧНЫЙ ЛИСТ</td>\n",
              "      <td>--\\nДобрый день!\\n   Меня,   30.07.1989г.р., п...</td>\n",
              "      <td>--\\nДобрый день!\\n   Меня,    30.07.1989г.р., ...</td>\n",
              "    </tr>\n",
              "  </tbody>\n",
              "</table>\n",
              "</div>"
            ],
            "text/plain": [
              "                                       Текст вопроса  ...                     Текст вопроса без NER DEEPMINT\n",
              "0  с уважением Вероника Игоревна  Ильич\\n\\nПосле ...  ...  с уважением    \\n\\nПосле 15 августа 2020 года ...\n",
              "1  Здравствуйте! Проинформируйте, пожалуйста, нуж...  ...  Здравствуйте! Проинформируйте, пожалуйста, нуж...\n",
              "2  --\\nДобрый день!\\n   Меня, Сидельникова Андрея...  ...  --\\nДобрый день!\\n   Меня,    30.07.1989г.р., ...\n",
              "\n",
              "[3 rows x 5 columns]"
            ]
          },
          "metadata": {
            "tags": []
          },
          "execution_count": 62
        }
      ]
    },
    {
      "cell_type": "code",
      "metadata": {
        "id": "fOsPyFX8K1-s"
      },
      "source": [
        "texts_no_ner = []\n",
        "texts = list(answers['Текст вопросов'])\n",
        "for text in tqdm(texts):\n",
        "    if type(text) == str:\n",
        "        texts_no_ner.append(preprocess_with_deepmint(text))\n",
        "    else:\n",
        "        texts_no_ner.append(text)\n",
        "\n",
        "answers['Текст вопроса без NER DEEPMINT'] = texts_no_ner\n",
        "answers.head(3)"
      ],
      "execution_count": null,
      "outputs": []
    },
    {
      "cell_type": "code",
      "metadata": {
        "id": "JlfzS6qwPqfJ"
      },
      "source": [
        "queries.to_excel('queries_ner.xlsx')\n",
        "answers.to_excel('answers_ner.xlsx')"
      ],
      "execution_count": null,
      "outputs": []
    },
    {
      "cell_type": "code",
      "metadata": {
        "id": "fL-92CCuc5aq"
      },
      "source": [
        ""
      ],
      "execution_count": null,
      "outputs": []
    }
  ]
}