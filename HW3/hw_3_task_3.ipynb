{
  "nbformat": 4,
  "nbformat_minor": 0,
  "metadata": {
    "colab": {
      "name": "hw_3_task_3.ipynb",
      "provenance": []
    },
    "kernelspec": {
      "name": "python3",
      "display_name": "Python 3"
    }
  },
  "cells": [
    {
      "cell_type": "markdown",
      "metadata": {
        "id": "-kgyFrxDc7Ql"
      },
      "source": [
        "# __Задача 2__:    \n",
        "На предыдущем занятии вы реализовывали функции поиска ближайших ответов на запросы через TF-IDF и BM25. \n",
        "Сравните качество нахождения верного ответа для обоих методов в трех случаях:\n",
        "- с функцией ```preprocess_with_natasha```\n",
        "- с функцией ```preprocess_with_deepmipt```\n",
        "- без препроцессинга\n",
        "\n",
        "Для измерения качества используйте метрику accuracy. Считаем, что ответ верный, если он входит в топ-1."
      ]
    },
    {
      "cell_type": "code",
      "metadata": {
        "id": "rk2P16PpcLNp"
      },
      "source": [
        "!pip install razdel\n",
        "!pip install pymorphy2\n",
        "\n",
        "import pandas as pd\n",
        "import numpy as np\n",
        "from razdel import tokenize\n",
        "from razdel import sentenize\n",
        "import nltk\n",
        "from nltk.corpus import stopwords\n",
        "from string import punctuation\n",
        "import pymorphy2\n",
        "\n",
        "morph = pymorphy2.MorphAnalyzer()\n",
        "nltk.download('stopwords')  \n",
        "nltk.download('punkt')\n",
        "russian_stopwords = stopwords.words('russian')\n",
        "\n",
        "queries = pd.read_excel('/content/queries.xlsx')\n",
        "answers = pd.read_excel('/content/answers.xlsx')"
      ],
      "execution_count": null,
      "outputs": []
    },
    {
      "cell_type": "code",
      "metadata": {
        "id": "JZ_jaHUVdVFQ"
      },
      "source": [
        "# queries.columns = ['Текст вопросов','Номер связки','Тематика', 'Текст вопросов без NER NATASHA','Текст вопросов без NER DEEPMINT']\n",
        "# answers.columns = ['Номер связки', 'Текст вопросов', 'Текст ответов', 'Тематика', 'Текст вопросов без NER DEEPMINT', 'Текст вопросов без NER NATASHA']"
      ],
      "execution_count": null,
      "outputs": []
    },
    {
      "cell_type": "code",
      "metadata": {
        "id": "GxuRiqmEew53"
      },
      "source": [
        "def preprocessing(text: str) -> str:\n",
        "  tokens = list(tokenize(text))\n",
        "  tokens = [_.text for _ in tokens]\n",
        "  tokens = [word.lower() for word in tokens if word.lower() not in russian_stopwords]\n",
        "  tokens = [(token.translate(str.maketrans('', '', punctuation))) for token in tokens]\n",
        "  lemmas = [morph.parse(token)[0].normal_form for token in tokens]\n",
        "\n",
        "  return \" \".join(lemmas)"
      ],
      "execution_count": null,
      "outputs": []
    },
    {
      "cell_type": "code",
      "metadata": {
        "id": "EA1LpgPOezXa"
      },
      "source": [
        "def make_column(df):\n",
        "  deepmint = list(df['Текст вопросов без NER DEEPMINT'])\n",
        "  natasha = list(df['Текст вопросов без NER NATASHA'])\n",
        "  deepmint_lemms = [preprocessing(str(text)) for text in deepmint]\n",
        "  natasha_lemms = [preprocessing(str(text)) for text in natasha]\n",
        "  df['deepmint_preprocessed'] = deepmint_lemms\n",
        "  df['natasha_preprocessed'] = natasha_lemms\n",
        "\n",
        "  return df\n",
        "\n",
        "answers_new = make_column(answers)\n",
        "queries_new = make_column(queries)"
      ],
      "execution_count": null,
      "outputs": []
    },
    {
      "cell_type": "code",
      "metadata": {
        "id": "z-T7neptfQD2"
      },
      "source": [
        "queries.to_excel('queries.xlsx')\n",
        "answers.to_excel('answers.xlsx')"
      ],
      "execution_count": null,
      "outputs": []
    },
    {
      "cell_type": "code",
      "metadata": {
        "id": "9AW4yflDf60g"
      },
      "source": [
        "from sklearn.model_selection import train_test_split\n",
        "from sklearn.feature_extraction.text import TfidfVectorizer\n",
        "from sklearn.metrics import accuracy_score\n",
        "import numpy as np\n",
        "\n",
        "columns = ['Номер связки', 'Текст вопросов', 'deepmint_preprocessed', 'natasha_preprocessed']\n",
        "\n",
        "answers_train = pd.DataFrame(answers, columns=columns)\n",
        "queries_train = pd.DataFrame(queries, columns=columns)\n",
        "\n",
        "vectorizer = TfidfVectorizer()"
      ],
      "execution_count": null,
      "outputs": []
    },
    {
      "cell_type": "code",
      "metadata": {
        "id": "l9-LiDvhgqB7"
      },
      "source": [
        "train_quer, test = train_test_split(queries_train, test_size=0.3, random_state=7654)\n",
        "train = pd.concat([answers_train, train_quer])\n",
        "print(train.shape, test.shape)"
      ],
      "execution_count": null,
      "outputs": []
    },
    {
      "cell_type": "code",
      "metadata": {
        "id": "wqQU34XPiSnB"
      },
      "source": [
        "def vectorize(text, X_array):\n",
        "  vec = vectorizer.transform(text)\n",
        "  X = vec.toarray()[0]\n",
        "  scalar = X_array.dot(X)\n",
        "\n",
        "  return scalar\n",
        "\n",
        "links = list(train['Номер связки'])"
      ],
      "execution_count": null,
      "outputs": []
    },
    {
      "cell_type": "code",
      "metadata": {
        "id": "QdbegDX4iU7d"
      },
      "source": [
        "def raking(question_array):\n",
        "  vec_link ={}\n",
        "  for x,y in enumerate(np.nditer(question_array)):\n",
        "    vec_link[float(y)] = links[x]\n",
        "\n",
        "  zip_links = [(el, vec_link[el]) for el in sorted(vec_link.keys(), reverse=True)]\n",
        "\n",
        "  # result = 'В ранжировании выиграл документ номер: ' + str(zip_links[0][1]) + '\\n'\n",
        "  # print(result)\n",
        "\n",
        "  # for x,y in zip_links:\n",
        "  #   print('Коэффициент близости: ', x,'\\t Номер документа: ',y)\n",
        "\n",
        "  return zip_links[0][1]"
      ],
      "execution_count": null,
      "outputs": []
    },
    {
      "cell_type": "markdown",
      "metadata": {
        "id": "DZmr5KsEh7FO"
      },
      "source": [
        "# NATASHA"
      ]
    },
    {
      "cell_type": "code",
      "metadata": {
        "id": "mp1nMdoOiHUg",
        "outputId": "f36d99b8-1e86-43bf-e8bb-1c3728d8bb5d",
        "colab": {
          "base_uri": "https://localhost:8080/",
          "height": 34
        }
      },
      "source": [
        "X_natasha = vectorizer.fit_transform(train['natasha_preprocessed'].values.astype('U'))\n",
        "X_natasha_array = X_natasha.toarray()\n",
        "X_natasha_array.shape"
      ],
      "execution_count": null,
      "outputs": [
        {
          "output_type": "execute_result",
          "data": {
            "text/plain": [
              "(1652, 5854)"
            ]
          },
          "metadata": {
            "tags": []
          },
          "execution_count": 61
        }
      ]
    },
    {
      "cell_type": "code",
      "metadata": {
        "id": "Mc-0RSc2npiQ"
      },
      "source": [
        "tf_natasha = []\n",
        "for i in range(690):\n",
        "  text = list(test['natasha_preprocessed'])[i]\n",
        "  array = vectorize([str(text)],  X_natasha_array)\n",
        "  tf_natasha.append(raking(array))"
      ],
      "execution_count": null,
      "outputs": []
    },
    {
      "cell_type": "code",
      "metadata": {
        "id": "zDMARV4a0ip5"
      },
      "source": [
        "test['tf_natasha'] = tf_natasha"
      ],
      "execution_count": null,
      "outputs": []
    },
    {
      "cell_type": "code",
      "metadata": {
        "id": "prEaHZXp15_w"
      },
      "source": [
        "test = test.fillna(0)\n",
        "test.astype({'Номер связки': 'int32'}).dtypes"
      ],
      "execution_count": null,
      "outputs": []
    },
    {
      "cell_type": "code",
      "metadata": {
        "id": "gfgeuObN2tor"
      },
      "source": [
        "test.astype({'tf_natasha': 'int32'}).dtypes"
      ],
      "execution_count": null,
      "outputs": []
    },
    {
      "cell_type": "code",
      "metadata": {
        "id": "rG4RcXTU0_ae",
        "outputId": "8d6c4fbb-d390-4be0-9aa7-aeb8aa95c476",
        "colab": {
          "base_uri": "https://localhost:8080/",
          "height": 34
        }
      },
      "source": [
        "accuracy_score(test['Номер связки'], test['tf_natasha'])"
      ],
      "execution_count": null,
      "outputs": [
        {
          "output_type": "execute_result",
          "data": {
            "text/plain": [
              "0.5608695652173913"
            ]
          },
          "metadata": {
            "tags": []
          },
          "execution_count": 95
        }
      ]
    },
    {
      "cell_type": "markdown",
      "metadata": {
        "id": "Ask_T-sGh_1c"
      },
      "source": [
        "# DEEPMINT"
      ]
    },
    {
      "cell_type": "code",
      "metadata": {
        "id": "Gw7iD9-OiHt5",
        "outputId": "dcb7551e-f312-4306-c70f-3b08b70dc2ea",
        "colab": {
          "base_uri": "https://localhost:8080/",
          "height": 34
        }
      },
      "source": [
        "X_deepmint = vectorizer.fit_transform(train['deepmint_preprocessed'].values.astype('U'))\n",
        "X_deepmint_array = X_deepmint.toarray()\n",
        "X_deepmint_array.shape"
      ],
      "execution_count": null,
      "outputs": [
        {
          "output_type": "execute_result",
          "data": {
            "text/plain": [
              "(1652, 6537)"
            ]
          },
          "metadata": {
            "tags": []
          },
          "execution_count": 77
        }
      ]
    },
    {
      "cell_type": "code",
      "metadata": {
        "id": "vIlHYFx1ikUQ"
      },
      "source": [
        "tf_deepmint = []\n",
        "for i in range(690):\n",
        "  text = list(test['deepmint_preprocessed'])[i]\n",
        "  array = vectorize([str(text)],  X_deepmint_array)\n",
        "  tf_deepmint.append(raking(array))"
      ],
      "execution_count": null,
      "outputs": []
    },
    {
      "cell_type": "code",
      "metadata": {
        "id": "qVVDDmxn0yH4"
      },
      "source": [
        "test['tf_deepmint'] = tf_deepmint"
      ],
      "execution_count": null,
      "outputs": []
    },
    {
      "cell_type": "code",
      "metadata": {
        "id": "18YcOQNp4koP"
      },
      "source": [
        "test.astype({'tf_deepmint': 'int32'}).dtypes"
      ],
      "execution_count": null,
      "outputs": []
    },
    {
      "cell_type": "code",
      "metadata": {
        "id": "Cp57xlJ14lo3",
        "outputId": "6e84c95f-244f-4112-fa8b-dacd95e0ad35",
        "colab": {
          "base_uri": "https://localhost:8080/",
          "height": 34
        }
      },
      "source": [
        "accuracy_score(test['Номер связки'], test['tf_deepmint'])"
      ],
      "execution_count": null,
      "outputs": [
        {
          "output_type": "execute_result",
          "data": {
            "text/plain": [
              "0.5666666666666667"
            ]
          },
          "metadata": {
            "tags": []
          },
          "execution_count": 97
        }
      ]
    },
    {
      "cell_type": "markdown",
      "metadata": {
        "id": "k_m6Qj9qiCSZ"
      },
      "source": [
        "# WITHOUT PREPROCESSING"
      ]
    },
    {
      "cell_type": "code",
      "metadata": {
        "id": "uNPUvYu4hvhj",
        "outputId": "69f15f69-9ce9-4b14-8a05-7b32d64cb9d1",
        "colab": {
          "base_uri": "https://localhost:8080/",
          "height": 34
        }
      },
      "source": [
        "X_plain = vectorizer.fit_transform(train['Текст вопросов'].values.astype('U'))\n",
        "X_plain_array = X_plain.toarray()\n",
        "X_plain_array.shape"
      ],
      "execution_count": null,
      "outputs": [
        {
          "output_type": "execute_result",
          "data": {
            "text/plain": [
              "(1652, 12477)"
            ]
          },
          "metadata": {
            "tags": []
          },
          "execution_count": 80
        }
      ]
    },
    {
      "cell_type": "code",
      "metadata": {
        "id": "Rlj8H5ClpIEf"
      },
      "source": [
        "tf_plain = []\n",
        "for i in range(690):\n",
        "  text = list(test['Текст вопросов'])[i]\n",
        "  array = vectorize([str(text)],  X_plain_array)\n",
        "  tf_plain .append(raking(array))"
      ],
      "execution_count": null,
      "outputs": []
    },
    {
      "cell_type": "code",
      "metadata": {
        "id": "kcYBmcXB01el"
      },
      "source": [
        "test['tf_plain'] = tf_plain"
      ],
      "execution_count": null,
      "outputs": []
    },
    {
      "cell_type": "code",
      "metadata": {
        "id": "KHomdah74h2Y"
      },
      "source": [
        "test.astype({'tf_plain': 'int32'}).dtypes"
      ],
      "execution_count": null,
      "outputs": []
    },
    {
      "cell_type": "code",
      "metadata": {
        "id": "BPjyAr7x4xKe",
        "outputId": "1d761a2d-325b-4358-b2b7-9cdbc1f6e9e1",
        "colab": {
          "base_uri": "https://localhost:8080/",
          "height": 34
        }
      },
      "source": [
        "accuracy_score(test['Номер связки'], test['tf_plain'])"
      ],
      "execution_count": null,
      "outputs": [
        {
          "output_type": "execute_result",
          "data": {
            "text/plain": [
              "0.5608695652173913"
            ]
          },
          "metadata": {
            "tags": []
          },
          "execution_count": 100
        }
      ]
    },
    {
      "cell_type": "markdown",
      "metadata": {
        "id": "3Nk4PTA26apo"
      },
      "source": [
        "# BM25"
      ]
    },
    {
      "cell_type": "code",
      "metadata": {
        "id": "p8jUYFbk6fDO"
      },
      "source": [
        "!pip install rank_bm25\n",
        "from rank_bm25 import BM25Okapi"
      ],
      "execution_count": null,
      "outputs": []
    },
    {
      "cell_type": "code",
      "metadata": {
        "id": "smWyMGPQ7rCT"
      },
      "source": [
        "natasha = list(train['natasha_preprocessed'])\n",
        "deepmint = list(train['deepmint_preprocessed'])\n",
        "plain = list(train['Текст вопросов'])"
      ],
      "execution_count": null,
      "outputs": []
    },
    {
      "cell_type": "code",
      "metadata": {
        "id": "WYkKP0ye8kn2"
      },
      "source": [
        "tokenized_natasha = [str(text).split(' ') for text in natasha]\n",
        "tokenized_deepmint = [str(text).split(' ') for text in deepmint]\n",
        "tokenized_plain = [str(text).split(' ') for text in plain]"
      ],
      "execution_count": null,
      "outputs": []
    },
    {
      "cell_type": "code",
      "metadata": {
        "id": "uGGXP1Wb917s"
      },
      "source": [
        "bm25_natasha = BM25Okapi(tokenized_natasha)\n",
        "bm25_deepmint = BM25Okapi(tokenized_deepmint)\n",
        "bm25_plain = BM25Okapi(tokenized_plain)"
      ],
      "execution_count": null,
      "outputs": []
    },
    {
      "cell_type": "code",
      "metadata": {
        "id": "DzQHcmxI-gpd"
      },
      "source": [
        "natasha_bm25 = []\n",
        "for i in range(690):\n",
        "  text = list(test['natasha_preprocessed'])[i]\n",
        "  array = bm25_natasha.get_scores(str(text).split(' '))\n",
        "  natasha_bm25.append(raking(array))\n",
        "\n",
        "test['natasha_bm25'] = natasha_bm25\n",
        "\n",
        "deepmint_bm25 = []\n",
        "for i in range(690):\n",
        "  text = list(test['deepmint_preprocessed'])[i]\n",
        "  array = bm25_deepmint.get_scores(str(text).split(' '))\n",
        "  deepmint_bm25.append(raking(array))\n",
        "\n",
        "test['deepmint_bm25'] = deepmint_bm25\n",
        "\n",
        "plain_bm25 = []\n",
        "for i in range(690):\n",
        "  text = list(test['Текст вопросов'])[i]\n",
        "  array = bm25_plain.get_scores(str(text).split(' '))\n",
        "  plain_bm25.append(raking(array))\n",
        "\n",
        "test['plain_bm25'] = plain_bm25"
      ],
      "execution_count": null,
      "outputs": []
    },
    {
      "cell_type": "code",
      "metadata": {
        "id": "yQzCZ6fZWuZu",
        "outputId": "59788d1d-8507-4da9-e0b2-46c02562f451",
        "colab": {
          "base_uri": "https://localhost:8080/",
          "height": 290
        }
      },
      "source": [
        "test.head(3)"
      ],
      "execution_count": null,
      "outputs": [
        {
          "output_type": "execute_result",
          "data": {
            "text/html": [
              "<div>\n",
              "<style scoped>\n",
              "    .dataframe tbody tr th:only-of-type {\n",
              "        vertical-align: middle;\n",
              "    }\n",
              "\n",
              "    .dataframe tbody tr th {\n",
              "        vertical-align: top;\n",
              "    }\n",
              "\n",
              "    .dataframe thead th {\n",
              "        text-align: right;\n",
              "    }\n",
              "</style>\n",
              "<table border=\"1\" class=\"dataframe\">\n",
              "  <thead>\n",
              "    <tr style=\"text-align: right;\">\n",
              "      <th></th>\n",
              "      <th>Номер связки</th>\n",
              "      <th>Текст вопросов</th>\n",
              "      <th>deepmint_preprocessed</th>\n",
              "      <th>natasha_preprocessed</th>\n",
              "      <th>tf_natasha</th>\n",
              "      <th>tf_deepmint</th>\n",
              "      <th>tf_plain</th>\n",
              "      <th>natasha_bm25</th>\n",
              "      <th>deepmint_bm25</th>\n",
              "      <th>plain_bm25</th>\n",
              "    </tr>\n",
              "  </thead>\n",
              "  <tbody>\n",
              "    <tr>\n",
              "      <th>39</th>\n",
              "      <td>1.0</td>\n",
              "      <td>Добрый день.\\nЕсли тест на ковид окажется поло...</td>\n",
              "      <td>добрый день  тест ковид оказаться положительны...</td>\n",
              "      <td>добрый день  тест ковид оказаться положительны...</td>\n",
              "      <td>1.0</td>\n",
              "      <td>1.0</td>\n",
              "      <td>6.0</td>\n",
              "      <td>1.0</td>\n",
              "      <td>1.0</td>\n",
              "      <td>308.0</td>\n",
              "    </tr>\n",
              "    <tr>\n",
              "      <th>1096</th>\n",
              "      <td>308.0</td>\n",
              "      <td>\\nДобрый день! \\n Подскажите, пожалуйста, как ...</td>\n",
              "      <td>добрый день  подсказать  пожалуйста   ситуация...</td>\n",
              "      <td>добрый день  подсказать  пожалуйста   ситуация...</td>\n",
              "      <td>308.0</td>\n",
              "      <td>308.0</td>\n",
              "      <td>308.0</td>\n",
              "      <td>308.0</td>\n",
              "      <td>308.0</td>\n",
              "      <td>308.0</td>\n",
              "    </tr>\n",
              "    <tr>\n",
              "      <th>787</th>\n",
              "      <td>6.0</td>\n",
              "      <td>Добрый день. Для уточнения результата теста на...</td>\n",
              "      <td>добрый день  уточнение результат тест ковид ма...</td>\n",
              "      <td>добрый день  уточнение результат тест ковид ма...</td>\n",
              "      <td>6.0</td>\n",
              "      <td>6.0</td>\n",
              "      <td>1.0</td>\n",
              "      <td>6.0</td>\n",
              "      <td>1.0</td>\n",
              "      <td>1.0</td>\n",
              "    </tr>\n",
              "  </tbody>\n",
              "</table>\n",
              "</div>"
            ],
            "text/plain": [
              "      Номер связки  ... plain_bm25\n",
              "39             1.0  ...      308.0\n",
              "1096         308.0  ...      308.0\n",
              "787            6.0  ...        1.0\n",
              "\n",
              "[3 rows x 10 columns]"
            ]
          },
          "metadata": {
            "tags": []
          },
          "execution_count": 143
        }
      ]
    },
    {
      "cell_type": "code",
      "metadata": {
        "id": "SjAxvetoDUIb"
      },
      "source": [
        "test.astype({'Номер связки': 'int32'}).dtypes"
      ],
      "execution_count": null,
      "outputs": []
    },
    {
      "cell_type": "code",
      "metadata": {
        "id": "OD7M8TLaZBC5"
      },
      "source": [
        "test = test.fillna(0)"
      ],
      "execution_count": null,
      "outputs": []
    },
    {
      "cell_type": "code",
      "metadata": {
        "id": "yzWjy7ouZJh9"
      },
      "source": [
        "test.astype({'plain_bm25': 'int32'}).dtypes"
      ],
      "execution_count": null,
      "outputs": []
    },
    {
      "cell_type": "code",
      "metadata": {
        "id": "1BkWpZL9ZOOS",
        "outputId": "12226b02-81dc-4c72-d730-c30a01a31211",
        "colab": {
          "base_uri": "https://localhost:8080/",
          "height": 34
        }
      },
      "source": [
        "accuracy_score(test['Номер связки'], test['plain_bm25'])"
      ],
      "execution_count": null,
      "outputs": [
        {
          "output_type": "execute_result",
          "data": {
            "text/plain": [
              "0.5173913043478261"
            ]
          },
          "metadata": {
            "tags": []
          },
          "execution_count": 155
        }
      ]
    },
    {
      "cell_type": "code",
      "metadata": {
        "id": "8mq48_3UZao0",
        "outputId": "d122eafc-3f7f-4948-fe5e-ad374ef4ebf8",
        "colab": {
          "base_uri": "https://localhost:8080/",
          "height": 34
        }
      },
      "source": [
        "test.astype({'deepmint_bm25': 'int32'}).dtypes\n",
        "accuracy_score(test['Номер связки'], test['deepmint_bm25'])"
      ],
      "execution_count": null,
      "outputs": [
        {
          "output_type": "execute_result",
          "data": {
            "text/plain": [
              "0.5449275362318841"
            ]
          },
          "metadata": {
            "tags": []
          },
          "execution_count": 157
        }
      ]
    },
    {
      "cell_type": "code",
      "metadata": {
        "id": "nyExyAWmZjdw",
        "outputId": "d44f6120-3eba-49e7-ff52-2897c19516b5",
        "colab": {
          "base_uri": "https://localhost:8080/",
          "height": 34
        }
      },
      "source": [
        "test.astype({'natasha_bm25': 'int32'}).dtypes\n",
        "accuracy_score(test['Номер связки'], test['natasha_bm25'])"
      ],
      "execution_count": null,
      "outputs": [
        {
          "output_type": "execute_result",
          "data": {
            "text/plain": [
              "0.5391304347826087"
            ]
          },
          "metadata": {
            "tags": []
          },
          "execution_count": 158
        }
      ]
    },
    {
      "cell_type": "markdown",
      "metadata": {
        "id": "i5sMuJfHaGnG"
      },
      "source": [
        "# __Задача 3__: \n",
        "Улучшить правила в natasha. Написать правила, которые ловят даты в следующих примерах и пересчитать статистику из Задачи 2:\n",
        "- Уехал 8-9 ноября в Сочи\n",
        "- Уезжаю 5 числа                           \n",
        "- 20го сентября заболел\n",
        "\n",
        "Пример можно посмотреть тут: https://github.com/natasha/yargy"
      ]
    },
    {
      "cell_type": "code",
      "metadata": {
        "id": "0MDaPKkmaLGE"
      },
      "source": [
        "!pip install yargy\n",
        "from yargy import Parser, rule, and_, not_\n",
        "from yargy.interpretation import fact\n",
        "from yargy.predicates import gram\n",
        "from yargy.relations import gnc_relation\n",
        "from yargy.pipelines import morph_pipeline"
      ],
      "execution_count": null,
      "outputs": []
    },
    {
      "cell_type": "code",
      "metadata": {
        "id": "b6jcpKzZahVj"
      },
      "source": [
        "from yargy import rule, and_, Parser, or_\n",
        "from yargy.predicates import gte, lte, dictionary\n",
        "\n",
        "MONTHS = {\n",
        "    'январь': 1,\n",
        "    'февраль': 2,\n",
        "    'март': 3,\n",
        "    'апрель': 4,\n",
        "    'мая': 5,\n",
        "    'июнь': 6,\n",
        "    'июль': 7,\n",
        "    'август': 8,\n",
        "    'сентябрь': 9,\n",
        "    'октябрь': 10,\n",
        "    'ноябрь': 11,\n",
        "    'декабрь': 12\n",
        "}\n",
        "\n",
        "# инициализируем день\n",
        "DAY = and_(\n",
        "    gte(1),\n",
        "    lte(31)\n",
        ")\n",
        "\n",
        "# инициализируем месяц\n",
        "MONTH = and_(\n",
        "    gte(1),\n",
        "    lte(12)\n",
        ")\n",
        "\n",
        "# инициализируем год\n",
        "YEAR = and_(\n",
        "    gte(1),\n",
        "    lte(2020)\n",
        ")\n",
        "\n",
        "MONTH_NAME = dictionary(\n",
        "    MONTHS\n",
        ")\n",
        "\n",
        "DATE = or_(\n",
        "    rule(YEAR, '-', MONTH, '-', DAY),\n",
        "    rule(YEAR, '-', MONTH_NAME, '-', DAY),\n",
        "    rule(DAY, '-', DAY, MONTH_NAME),\n",
        "    rule(DAY, '-', DAY, 'числа'),\n",
        "    rule(DAY, 'числа'),\n",
        "    rule(DAY, 'го', MONTH_NAME),\n",
        "    rule(DAY, '-го', MONTH),\n",
        "    rule(DAY, 'числа', YEAR.optional()),\n",
        "    rule(DAY, 'числа', MONTH_NAME, YEAR.optional())\n",
        "    )"
      ],
      "execution_count": null,
      "outputs": []
    },
    {
      "cell_type": "code",
      "metadata": {
        "id": "molsrHencvp_",
        "outputId": "25606080-d0fb-4b00-a7a3-34501c6ae205",
        "colab": {
          "base_uri": "https://localhost:8080/",
          "height": 35
        }
      },
      "source": [
        "parser = Parser(DATE)\n",
        "\n",
        "def extract_new_rules(text: str) -> str:\n",
        "  for find in parser.findall(text):\n",
        "    for date in [_.value for _ in find.tokens]:\n",
        "      text = text.replace(date, '')\n",
        "\n",
        "  return text\n",
        "\n",
        "extract_new_rules('Уехал 8-9 ноября В Сочи Уезжаю 5 числа 20го сентября заболел')"
      ],
      "execution_count": null,
      "outputs": [
        {
          "output_type": "execute_result",
          "data": {
            "application/vnd.google.colaboratory.intrinsic+json": {
              "type": "string"
            },
            "text/plain": [
              "'Уехал   В Сочи Уезжаю     заболел'"
            ]
          },
          "metadata": {
            "tags": []
          },
          "execution_count": 168
        }
      ]
    },
    {
      "cell_type": "code",
      "metadata": {
        "id": "jtRj2i2MeYAn"
      },
      "source": [
        "texts = list(train['natasha_preprocessed'])\n",
        "natasha_preprocessed_new_rules = []\n",
        "for text in texts:\n",
        "  natasha_preprocessed_new_rules.append(extract_new_rules(str(text)))\n",
        "\n",
        "train['natasha_preprocessed_new_rules'] = natasha_preprocessed_new_rules"
      ],
      "execution_count": 175,
      "outputs": []
    },
    {
      "cell_type": "code",
      "metadata": {
        "id": "oktZhIRThYp_"
      },
      "source": [
        "texts = list(test['natasha_preprocessed'])\n",
        "natasha_preprocessed_new_rules = []\n",
        "for text in texts:\n",
        "  natasha_preprocessed_new_rules.append(extract_new_rules(str(text)))\n",
        "\n",
        "test['natasha_preprocessed_new_rules'] = natasha_preprocessed_new_rules"
      ],
      "execution_count": 178,
      "outputs": []
    },
    {
      "cell_type": "code",
      "metadata": {
        "id": "JRt1AIDEhJuY",
        "outputId": "2c2a196a-4589-4263-9739-12fb2e4a2bc8",
        "colab": {
          "base_uri": "https://localhost:8080/",
          "height": 34
        }
      },
      "source": [
        "X_natasha = vectorizer.fit_transform(train['natasha_preprocessed_new_rules'].values.astype('U'))\n",
        "X_natasha_array = X_natasha.toarray()\n",
        "X_natasha_array.shape"
      ],
      "execution_count": 177,
      "outputs": [
        {
          "output_type": "execute_result",
          "data": {
            "text/plain": [
              "(1652, 5849)"
            ]
          },
          "metadata": {
            "tags": []
          },
          "execution_count": 177
        }
      ]
    },
    {
      "cell_type": "code",
      "metadata": {
        "id": "6mXMqW_PhVey"
      },
      "source": [
        "tf_natasha = []\n",
        "for i in range(690):\n",
        "  text = list(test['natasha_preprocessed_new_rules'])[i]\n",
        "  array = vectorize([str(text)],  X_natasha_array)\n",
        "  tf_natasha.append(raking(array))"
      ],
      "execution_count": 179,
      "outputs": []
    },
    {
      "cell_type": "code",
      "metadata": {
        "id": "EQHzOLZnhm4m"
      },
      "source": [
        "test['tf_natasha_new'] = tf_natasha"
      ],
      "execution_count": 180,
      "outputs": []
    },
    {
      "cell_type": "code",
      "metadata": {
        "id": "mg51_-chhsdp"
      },
      "source": [
        "test = test.fillna(0)\n",
        "test.astype({'Номер связки': 'int32'}).dtypes"
      ],
      "execution_count": null,
      "outputs": []
    },
    {
      "cell_type": "code",
      "metadata": {
        "id": "0Hiz5A8qhvNR"
      },
      "source": [
        "test.astype({'tf_natasha_new': 'int32'}).dtypes"
      ],
      "execution_count": null,
      "outputs": []
    },
    {
      "cell_type": "code",
      "metadata": {
        "id": "7SLzJ-8ThzD2",
        "outputId": "11a8f372-35fc-425a-c5d2-96a88b6760db",
        "colab": {
          "base_uri": "https://localhost:8080/",
          "height": 34
        }
      },
      "source": [
        "accuracy_score(test['Номер связки'], test['tf_natasha_new'])"
      ],
      "execution_count": 183,
      "outputs": [
        {
          "output_type": "execute_result",
          "data": {
            "text/plain": [
              "0.5579710144927537"
            ]
          },
          "metadata": {
            "tags": []
          },
          "execution_count": 183
        }
      ]
    },
    {
      "cell_type": "code",
      "metadata": {
        "id": "pbUt35jwh7I4"
      },
      "source": [
        "natasha = list(train['natasha_preprocessed_new_rules'])\n",
        "tokenized_natasha = [str(text).split(' ') for text in natasha]\n",
        "bm25_natasha = BM25Okapi(tokenized_natasha)\n",
        "\n",
        "natasha_bm25 = []\n",
        "for i in range(690):\n",
        "  text = list(test['natasha_preprocessed_new_rules'])[i]\n",
        "  array = bm25_natasha.get_scores(str(text).split(' '))\n",
        "  natasha_bm25.append(raking(array))\n",
        "\n",
        "test['natasha_bm25_new'] = natasha_bm25"
      ],
      "execution_count": 185,
      "outputs": []
    },
    {
      "cell_type": "code",
      "metadata": {
        "id": "00f0_FlmiaFq",
        "outputId": "1969b9f8-3297-40ec-81c6-f6da100399d1",
        "colab": {
          "base_uri": "https://localhost:8080/",
          "height": 34
        }
      },
      "source": [
        "test = test.fillna(0)\n",
        "test.astype({'Номер связки': 'int32'}).dtypes\n",
        "test.astype({'natasha_bm25': 'int32'}).dtypes\n",
        "accuracy_score(test['Номер связки'], test['natasha_bm25_new'])"
      ],
      "execution_count": 186,
      "outputs": [
        {
          "output_type": "execute_result",
          "data": {
            "text/plain": [
              "0.5376811594202898"
            ]
          },
          "metadata": {
            "tags": []
          },
          "execution_count": 186
        }
      ]
    }
  ]
}